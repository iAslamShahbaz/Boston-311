{
 "cells": [
  {
   "cell_type": "code",
   "execution_count": 1,
   "id": "e17dbe6e",
   "metadata": {},
   "outputs": [],
   "source": [
    "#Data cleaning code till point 9.1:\n",
    "import pandas as pd\n",
    "data=pd.read_csv('/Users/buzz/Downloads/Data Mining Project/projectdata.csv')"
   ]
  },
  {
   "cell_type": "markdown",
   "id": "0a2667c7",
   "metadata": {},
   "source": [
    "### Refining the case_enquiry_id column values to helpus uniquely identify the records."
   ]
  },
  {
   "cell_type": "code",
   "execution_count": 2,
   "id": "e4a3184d",
   "metadata": {
    "scrolled": true
   },
   "outputs": [
    {
     "data": {
      "text/html": [
       "<div>\n",
       "<style scoped>\n",
       "    .dataframe tbody tr th:only-of-type {\n",
       "        vertical-align: middle;\n",
       "    }\n",
       "\n",
       "    .dataframe tbody tr th {\n",
       "        vertical-align: top;\n",
       "    }\n",
       "\n",
       "    .dataframe thead th {\n",
       "        text-align: right;\n",
       "    }\n",
       "</style>\n",
       "<table border=\"1\" class=\"dataframe\">\n",
       "  <thead>\n",
       "    <tr style=\"text-align: right;\">\n",
       "      <th></th>\n",
       "      <th>case_enquiry_id</th>\n",
       "      <th>open_dt</th>\n",
       "      <th>target_dt</th>\n",
       "      <th>closed_dt</th>\n",
       "      <th>ontime</th>\n",
       "      <th>case_status</th>\n",
       "      <th>closure_reason</th>\n",
       "      <th>case_title</th>\n",
       "      <th>subject</th>\n",
       "      <th>reason</th>\n",
       "      <th>...</th>\n",
       "      <th>police_district</th>\n",
       "      <th>neighborhood</th>\n",
       "      <th>neighborhood_services_district</th>\n",
       "      <th>ward</th>\n",
       "      <th>precinct</th>\n",
       "      <th>location_street_name</th>\n",
       "      <th>location_zipcode</th>\n",
       "      <th>latitude</th>\n",
       "      <th>longitude</th>\n",
       "      <th>source</th>\n",
       "    </tr>\n",
       "  </thead>\n",
       "  <tbody>\n",
       "    <tr>\n",
       "      <th>0</th>\n",
       "      <td>1</td>\n",
       "      <td>2022-01-13 12:59:00</td>\n",
       "      <td>2022-01-20 12:59:39</td>\n",
       "      <td>NaN</td>\n",
       "      <td>OVERDUE</td>\n",
       "      <td>Open</td>\n",
       "      <td></td>\n",
       "      <td>Illegal Rooming House</td>\n",
       "      <td>Inspectional Services</td>\n",
       "      <td>Building</td>\n",
       "      <td>...</td>\n",
       "      <td>C11</td>\n",
       "      <td>Dorchester</td>\n",
       "      <td>8</td>\n",
       "      <td>Ward 17</td>\n",
       "      <td>1706</td>\n",
       "      <td>27 Lithgow St</td>\n",
       "      <td>2124.0</td>\n",
       "      <td>42.2896</td>\n",
       "      <td>-71.0701</td>\n",
       "      <td>Constituent Call</td>\n",
       "    </tr>\n",
       "    <tr>\n",
       "      <th>1</th>\n",
       "      <td>2</td>\n",
       "      <td>2022-02-02 11:42:49</td>\n",
       "      <td>2022-02-16 11:42:49</td>\n",
       "      <td>2022-02-02 11:45:47</td>\n",
       "      <td>ONTIME</td>\n",
       "      <td>Closed</td>\n",
       "      <td>Case Closed Case Noted</td>\n",
       "      <td>PublicWorks: Complaint</td>\n",
       "      <td>Mayor's 24 Hour Hotline</td>\n",
       "      <td>Employee &amp; General Comments</td>\n",
       "      <td>...</td>\n",
       "      <td></td>\n",
       "      <td></td>\n",
       "      <td></td>\n",
       "      <td></td>\n",
       "      <td></td>\n",
       "      <td>NaN</td>\n",
       "      <td>NaN</td>\n",
       "      <td>42.3594</td>\n",
       "      <td>-71.0587</td>\n",
       "      <td>Constituent Call</td>\n",
       "    </tr>\n",
       "    <tr>\n",
       "      <th>2</th>\n",
       "      <td>3</td>\n",
       "      <td>2022-01-28 19:36:00</td>\n",
       "      <td>NaN</td>\n",
       "      <td>NaN</td>\n",
       "      <td>ONTIME</td>\n",
       "      <td>Open</td>\n",
       "      <td></td>\n",
       "      <td>Space Savers</td>\n",
       "      <td>Public Works Department</td>\n",
       "      <td>Sanitation</td>\n",
       "      <td>...</td>\n",
       "      <td>B3</td>\n",
       "      <td>Greater Mattapan</td>\n",
       "      <td>9</td>\n",
       "      <td>Ward 14</td>\n",
       "      <td>1411</td>\n",
       "      <td>492 Harvard St</td>\n",
       "      <td>2124.0</td>\n",
       "      <td>42.2876</td>\n",
       "      <td>-71.0936</td>\n",
       "      <td>Constituent Call</td>\n",
       "    </tr>\n",
       "    <tr>\n",
       "      <th>3</th>\n",
       "      <td>4</td>\n",
       "      <td>2022-01-01 00:36:24</td>\n",
       "      <td>2022-01-04 08:30:00</td>\n",
       "      <td>2022-01-03 00:13:17</td>\n",
       "      <td>ONTIME</td>\n",
       "      <td>Closed</td>\n",
       "      <td>Case Closed. Closed date : 2022-01-03 00:13:17...</td>\n",
       "      <td>Parking Enforcement</td>\n",
       "      <td>Transportation - Traffic Division</td>\n",
       "      <td>Enforcement &amp; Abandoned Vehicles</td>\n",
       "      <td>...</td>\n",
       "      <td>C6</td>\n",
       "      <td>South Boston / South Boston Waterfront</td>\n",
       "      <td>5</td>\n",
       "      <td>6</td>\n",
       "      <td>0601</td>\n",
       "      <td>INTERSECTION Seaport Blvd &amp; Sleeper St</td>\n",
       "      <td>NaN</td>\n",
       "      <td>42.3594</td>\n",
       "      <td>-71.0587</td>\n",
       "      <td>Citizens Connect App</td>\n",
       "    </tr>\n",
       "    <tr>\n",
       "      <th>4</th>\n",
       "      <td>5</td>\n",
       "      <td>2022-01-11 09:47:00</td>\n",
       "      <td>2022-02-10 09:47:22</td>\n",
       "      <td>NaN</td>\n",
       "      <td>OVERDUE</td>\n",
       "      <td>Open</td>\n",
       "      <td></td>\n",
       "      <td>DISPATCHED Heat - Excessive  Insufficient</td>\n",
       "      <td>Inspectional Services</td>\n",
       "      <td>Housing</td>\n",
       "      <td>...</td>\n",
       "      <td>B2</td>\n",
       "      <td>Roxbury</td>\n",
       "      <td>13</td>\n",
       "      <td>Ward 12</td>\n",
       "      <td>1202</td>\n",
       "      <td>15 Crawford St</td>\n",
       "      <td>2121.0</td>\n",
       "      <td>42.3110</td>\n",
       "      <td>-71.0841</td>\n",
       "      <td>Constituent Call</td>\n",
       "    </tr>\n",
       "  </tbody>\n",
       "</table>\n",
       "<p>5 rows × 29 columns</p>\n",
       "</div>"
      ],
      "text/plain": [
       "   case_enquiry_id              open_dt            target_dt  \\\n",
       "0                1  2022-01-13 12:59:00  2022-01-20 12:59:39   \n",
       "1                2  2022-02-02 11:42:49  2022-02-16 11:42:49   \n",
       "2                3  2022-01-28 19:36:00                  NaN   \n",
       "3                4  2022-01-01 00:36:24  2022-01-04 08:30:00   \n",
       "4                5  2022-01-11 09:47:00  2022-02-10 09:47:22   \n",
       "\n",
       "             closed_dt   ontime case_status  \\\n",
       "0                  NaN  OVERDUE        Open   \n",
       "1  2022-02-02 11:45:47   ONTIME      Closed   \n",
       "2                  NaN   ONTIME        Open   \n",
       "3  2022-01-03 00:13:17   ONTIME      Closed   \n",
       "4                  NaN  OVERDUE        Open   \n",
       "\n",
       "                                      closure_reason  \\\n",
       "0                                                      \n",
       "1                         Case Closed Case Noted       \n",
       "2                                                      \n",
       "3  Case Closed. Closed date : 2022-01-03 00:13:17...   \n",
       "4                                                      \n",
       "\n",
       "                                  case_title  \\\n",
       "0                      Illegal Rooming House   \n",
       "1                     PublicWorks: Complaint   \n",
       "2                               Space Savers   \n",
       "3                        Parking Enforcement   \n",
       "4  DISPATCHED Heat - Excessive  Insufficient   \n",
       "\n",
       "                             subject                            reason  ...  \\\n",
       "0              Inspectional Services                          Building  ...   \n",
       "1            Mayor's 24 Hour Hotline       Employee & General Comments  ...   \n",
       "2            Public Works Department                        Sanitation  ...   \n",
       "3  Transportation - Traffic Division  Enforcement & Abandoned Vehicles  ...   \n",
       "4              Inspectional Services                           Housing  ...   \n",
       "\n",
       "  police_district                            neighborhood  \\\n",
       "0             C11                              Dorchester   \n",
       "1                                                           \n",
       "2              B3                        Greater Mattapan   \n",
       "3              C6  South Boston / South Boston Waterfront   \n",
       "4              B2                                 Roxbury   \n",
       "\n",
       "  neighborhood_services_district     ward precinct  \\\n",
       "0                              8  Ward 17     1706   \n",
       "1                                                    \n",
       "2                              9  Ward 14     1411   \n",
       "3                              5        6     0601   \n",
       "4                             13  Ward 12     1202   \n",
       "\n",
       "                     location_street_name location_zipcode latitude longitude  \\\n",
       "0                           27 Lithgow St           2124.0  42.2896  -71.0701   \n",
       "1                                     NaN              NaN  42.3594  -71.0587   \n",
       "2                          492 Harvard St           2124.0  42.2876  -71.0936   \n",
       "3  INTERSECTION Seaport Blvd & Sleeper St              NaN  42.3594  -71.0587   \n",
       "4                          15 Crawford St           2121.0  42.3110  -71.0841   \n",
       "\n",
       "                 source  \n",
       "0      Constituent Call  \n",
       "1      Constituent Call  \n",
       "2      Constituent Call  \n",
       "3  Citizens Connect App  \n",
       "4      Constituent Call  \n",
       "\n",
       "[5 rows x 29 columns]"
      ]
     },
     "execution_count": 2,
     "metadata": {},
     "output_type": "execute_result"
    }
   ],
   "source": [
    "data['case_enquiry_id'] = data.reset_index().index + 1\n",
    "data.head()"
   ]
  },
  {
   "cell_type": "markdown",
   "id": "8482e395",
   "metadata": {},
   "source": [
    "### Splitting timestamp column to separate date and time columns "
   ]
  },
  {
   "cell_type": "code",
   "execution_count": 3,
   "id": "7fceeade",
   "metadata": {},
   "outputs": [],
   "source": [
    "data['open_date'] = pd.to_datetime(data['open_dt']).dt.date\n",
    "data['open_time'] = pd.to_datetime(data['open_dt']).dt.time\n",
    "data['target_date'] = pd.to_datetime(data['target_dt']).dt.date\n",
    "data['target_time'] = pd.to_datetime(data['target_dt']).dt.time\n",
    "data['closure_date'] = pd.to_datetime(data['closed_dt']).dt.date\n",
    "data['closure_time'] = pd.to_datetime(data['closed_dt']).dt.time"
   ]
  },
  {
   "cell_type": "code",
   "execution_count": 4,
   "id": "cd4a5a80",
   "metadata": {},
   "outputs": [
    {
     "data": {
      "text/html": [
       "<div>\n",
       "<style scoped>\n",
       "    .dataframe tbody tr th:only-of-type {\n",
       "        vertical-align: middle;\n",
       "    }\n",
       "\n",
       "    .dataframe tbody tr th {\n",
       "        vertical-align: top;\n",
       "    }\n",
       "\n",
       "    .dataframe thead th {\n",
       "        text-align: right;\n",
       "    }\n",
       "</style>\n",
       "<table border=\"1\" class=\"dataframe\">\n",
       "  <thead>\n",
       "    <tr style=\"text-align: right;\">\n",
       "      <th></th>\n",
       "      <th>case_enquiry_id</th>\n",
       "      <th>open_dt</th>\n",
       "      <th>target_dt</th>\n",
       "      <th>closed_dt</th>\n",
       "      <th>ontime</th>\n",
       "      <th>case_status</th>\n",
       "      <th>closure_reason</th>\n",
       "      <th>case_title</th>\n",
       "      <th>subject</th>\n",
       "      <th>reason</th>\n",
       "      <th>...</th>\n",
       "      <th>location_zipcode</th>\n",
       "      <th>latitude</th>\n",
       "      <th>longitude</th>\n",
       "      <th>source</th>\n",
       "      <th>open_date</th>\n",
       "      <th>open_time</th>\n",
       "      <th>target_date</th>\n",
       "      <th>target_time</th>\n",
       "      <th>closure_date</th>\n",
       "      <th>closure_time</th>\n",
       "    </tr>\n",
       "  </thead>\n",
       "  <tbody>\n",
       "    <tr>\n",
       "      <th>0</th>\n",
       "      <td>1</td>\n",
       "      <td>2022-01-13 12:59:00</td>\n",
       "      <td>2022-01-20 12:59:39</td>\n",
       "      <td>NaN</td>\n",
       "      <td>OVERDUE</td>\n",
       "      <td>Open</td>\n",
       "      <td></td>\n",
       "      <td>Illegal Rooming House</td>\n",
       "      <td>Inspectional Services</td>\n",
       "      <td>Building</td>\n",
       "      <td>...</td>\n",
       "      <td>2124.0</td>\n",
       "      <td>42.2896</td>\n",
       "      <td>-71.0701</td>\n",
       "      <td>Constituent Call</td>\n",
       "      <td>2022-01-13</td>\n",
       "      <td>12:59:00</td>\n",
       "      <td>2022-01-20</td>\n",
       "      <td>12:59:39</td>\n",
       "      <td>NaT</td>\n",
       "      <td>NaT</td>\n",
       "    </tr>\n",
       "    <tr>\n",
       "      <th>1</th>\n",
       "      <td>2</td>\n",
       "      <td>2022-02-02 11:42:49</td>\n",
       "      <td>2022-02-16 11:42:49</td>\n",
       "      <td>2022-02-02 11:45:47</td>\n",
       "      <td>ONTIME</td>\n",
       "      <td>Closed</td>\n",
       "      <td>Case Closed Case Noted</td>\n",
       "      <td>PublicWorks: Complaint</td>\n",
       "      <td>Mayor's 24 Hour Hotline</td>\n",
       "      <td>Employee &amp; General Comments</td>\n",
       "      <td>...</td>\n",
       "      <td>NaN</td>\n",
       "      <td>42.3594</td>\n",
       "      <td>-71.0587</td>\n",
       "      <td>Constituent Call</td>\n",
       "      <td>2022-02-02</td>\n",
       "      <td>11:42:49</td>\n",
       "      <td>2022-02-16</td>\n",
       "      <td>11:42:49</td>\n",
       "      <td>2022-02-02</td>\n",
       "      <td>11:45:47</td>\n",
       "    </tr>\n",
       "    <tr>\n",
       "      <th>2</th>\n",
       "      <td>3</td>\n",
       "      <td>2022-01-28 19:36:00</td>\n",
       "      <td>NaN</td>\n",
       "      <td>NaN</td>\n",
       "      <td>ONTIME</td>\n",
       "      <td>Open</td>\n",
       "      <td></td>\n",
       "      <td>Space Savers</td>\n",
       "      <td>Public Works Department</td>\n",
       "      <td>Sanitation</td>\n",
       "      <td>...</td>\n",
       "      <td>2124.0</td>\n",
       "      <td>42.2876</td>\n",
       "      <td>-71.0936</td>\n",
       "      <td>Constituent Call</td>\n",
       "      <td>2022-01-28</td>\n",
       "      <td>19:36:00</td>\n",
       "      <td>NaT</td>\n",
       "      <td>NaT</td>\n",
       "      <td>NaT</td>\n",
       "      <td>NaT</td>\n",
       "    </tr>\n",
       "    <tr>\n",
       "      <th>3</th>\n",
       "      <td>4</td>\n",
       "      <td>2022-01-01 00:36:24</td>\n",
       "      <td>2022-01-04 08:30:00</td>\n",
       "      <td>2022-01-03 00:13:17</td>\n",
       "      <td>ONTIME</td>\n",
       "      <td>Closed</td>\n",
       "      <td>Case Closed. Closed date : 2022-01-03 00:13:17...</td>\n",
       "      <td>Parking Enforcement</td>\n",
       "      <td>Transportation - Traffic Division</td>\n",
       "      <td>Enforcement &amp; Abandoned Vehicles</td>\n",
       "      <td>...</td>\n",
       "      <td>NaN</td>\n",
       "      <td>42.3594</td>\n",
       "      <td>-71.0587</td>\n",
       "      <td>Citizens Connect App</td>\n",
       "      <td>2022-01-01</td>\n",
       "      <td>00:36:24</td>\n",
       "      <td>2022-01-04</td>\n",
       "      <td>08:30:00</td>\n",
       "      <td>2022-01-03</td>\n",
       "      <td>00:13:17</td>\n",
       "    </tr>\n",
       "    <tr>\n",
       "      <th>4</th>\n",
       "      <td>5</td>\n",
       "      <td>2022-01-11 09:47:00</td>\n",
       "      <td>2022-02-10 09:47:22</td>\n",
       "      <td>NaN</td>\n",
       "      <td>OVERDUE</td>\n",
       "      <td>Open</td>\n",
       "      <td></td>\n",
       "      <td>DISPATCHED Heat - Excessive  Insufficient</td>\n",
       "      <td>Inspectional Services</td>\n",
       "      <td>Housing</td>\n",
       "      <td>...</td>\n",
       "      <td>2121.0</td>\n",
       "      <td>42.3110</td>\n",
       "      <td>-71.0841</td>\n",
       "      <td>Constituent Call</td>\n",
       "      <td>2022-01-11</td>\n",
       "      <td>09:47:00</td>\n",
       "      <td>2022-02-10</td>\n",
       "      <td>09:47:22</td>\n",
       "      <td>NaT</td>\n",
       "      <td>NaT</td>\n",
       "    </tr>\n",
       "  </tbody>\n",
       "</table>\n",
       "<p>5 rows × 35 columns</p>\n",
       "</div>"
      ],
      "text/plain": [
       "   case_enquiry_id              open_dt            target_dt  \\\n",
       "0                1  2022-01-13 12:59:00  2022-01-20 12:59:39   \n",
       "1                2  2022-02-02 11:42:49  2022-02-16 11:42:49   \n",
       "2                3  2022-01-28 19:36:00                  NaN   \n",
       "3                4  2022-01-01 00:36:24  2022-01-04 08:30:00   \n",
       "4                5  2022-01-11 09:47:00  2022-02-10 09:47:22   \n",
       "\n",
       "             closed_dt   ontime case_status  \\\n",
       "0                  NaN  OVERDUE        Open   \n",
       "1  2022-02-02 11:45:47   ONTIME      Closed   \n",
       "2                  NaN   ONTIME        Open   \n",
       "3  2022-01-03 00:13:17   ONTIME      Closed   \n",
       "4                  NaN  OVERDUE        Open   \n",
       "\n",
       "                                      closure_reason  \\\n",
       "0                                                      \n",
       "1                         Case Closed Case Noted       \n",
       "2                                                      \n",
       "3  Case Closed. Closed date : 2022-01-03 00:13:17...   \n",
       "4                                                      \n",
       "\n",
       "                                  case_title  \\\n",
       "0                      Illegal Rooming House   \n",
       "1                     PublicWorks: Complaint   \n",
       "2                               Space Savers   \n",
       "3                        Parking Enforcement   \n",
       "4  DISPATCHED Heat - Excessive  Insufficient   \n",
       "\n",
       "                             subject                            reason  ...  \\\n",
       "0              Inspectional Services                          Building  ...   \n",
       "1            Mayor's 24 Hour Hotline       Employee & General Comments  ...   \n",
       "2            Public Works Department                        Sanitation  ...   \n",
       "3  Transportation - Traffic Division  Enforcement & Abandoned Vehicles  ...   \n",
       "4              Inspectional Services                           Housing  ...   \n",
       "\n",
       "  location_zipcode latitude longitude                source   open_date  \\\n",
       "0           2124.0  42.2896  -71.0701      Constituent Call  2022-01-13   \n",
       "1              NaN  42.3594  -71.0587      Constituent Call  2022-02-02   \n",
       "2           2124.0  42.2876  -71.0936      Constituent Call  2022-01-28   \n",
       "3              NaN  42.3594  -71.0587  Citizens Connect App  2022-01-01   \n",
       "4           2121.0  42.3110  -71.0841      Constituent Call  2022-01-11   \n",
       "\n",
       "  open_time target_date target_time closure_date closure_time  \n",
       "0  12:59:00  2022-01-20    12:59:39          NaT          NaT  \n",
       "1  11:42:49  2022-02-16    11:42:49   2022-02-02     11:45:47  \n",
       "2  19:36:00         NaT         NaT          NaT          NaT  \n",
       "3  00:36:24  2022-01-04    08:30:00   2022-01-03     00:13:17  \n",
       "4  09:47:00  2022-02-10    09:47:22          NaT          NaT  \n",
       "\n",
       "[5 rows x 35 columns]"
      ]
     },
     "execution_count": 4,
     "metadata": {},
     "output_type": "execute_result"
    }
   ],
   "source": [
    "data.head()"
   ]
  },
  {
   "cell_type": "markdown",
   "id": "b156c85e",
   "metadata": {},
   "source": [
    "### Renaming columns to align with the data values meaning"
   ]
  },
  {
   "cell_type": "code",
   "execution_count": 5,
   "id": "978bff8e",
   "metadata": {},
   "outputs": [
    {
     "data": {
      "text/plain": [
       "Index(['case_enquiry_id', 'open_dt', 'target_dt', 'closed_dt', 'ontime',\n",
       "       'case_status', 'closure_reason', 'case_title', 'subject', 'reason',\n",
       "       'type', 'queue', 'department', 'submittedphoto', 'closedphoto',\n",
       "       'location', 'fire_district', 'pwd_district', 'city_council_district',\n",
       "       'police_district', 'neighborhood', 'neighborhood_services_district',\n",
       "       'ward', 'precinct', 'location_street_name', 'location_zipcode',\n",
       "       'latitude', 'longitude', 'source', 'open_date', 'open_time',\n",
       "       'target_date', 'target_time', 'closure_date', 'closure_time'],\n",
       "      dtype='object')"
      ]
     },
     "execution_count": 5,
     "metadata": {},
     "output_type": "execute_result"
    }
   ],
   "source": [
    "data.columns"
   ]
  },
  {
   "cell_type": "code",
   "execution_count": 6,
   "id": "1a9214c2",
   "metadata": {},
   "outputs": [
    {
     "data": {
      "text/html": [
       "<div>\n",
       "<style scoped>\n",
       "    .dataframe tbody tr th:only-of-type {\n",
       "        vertical-align: middle;\n",
       "    }\n",
       "\n",
       "    .dataframe tbody tr th {\n",
       "        vertical-align: top;\n",
       "    }\n",
       "\n",
       "    .dataframe thead th {\n",
       "        text-align: right;\n",
       "    }\n",
       "</style>\n",
       "<table border=\"1\" class=\"dataframe\">\n",
       "  <thead>\n",
       "    <tr style=\"text-align: right;\">\n",
       "      <th></th>\n",
       "      <th>case_enquiry_id</th>\n",
       "      <th>open_dt</th>\n",
       "      <th>target_dt</th>\n",
       "      <th>closed_dt</th>\n",
       "      <th>ontime</th>\n",
       "      <th>case_status</th>\n",
       "      <th>closure_reason</th>\n",
       "      <th>case_title</th>\n",
       "      <th>dept_responsible</th>\n",
       "      <th>team_responsible</th>\n",
       "      <th>...</th>\n",
       "      <th>location_zipcode</th>\n",
       "      <th>latitude</th>\n",
       "      <th>longitude</th>\n",
       "      <th>source</th>\n",
       "      <th>open_date</th>\n",
       "      <th>open_time</th>\n",
       "      <th>target_date</th>\n",
       "      <th>target_time</th>\n",
       "      <th>closure_date</th>\n",
       "      <th>closure_time</th>\n",
       "    </tr>\n",
       "  </thead>\n",
       "  <tbody>\n",
       "    <tr>\n",
       "      <th>0</th>\n",
       "      <td>1</td>\n",
       "      <td>2022-01-13 12:59:00</td>\n",
       "      <td>2022-01-20 12:59:39</td>\n",
       "      <td>NaN</td>\n",
       "      <td>OVERDUE</td>\n",
       "      <td>Open</td>\n",
       "      <td></td>\n",
       "      <td>Illegal Rooming House</td>\n",
       "      <td>Inspectional Services</td>\n",
       "      <td>Building</td>\n",
       "      <td>...</td>\n",
       "      <td>2124.0</td>\n",
       "      <td>42.2896</td>\n",
       "      <td>-71.0701</td>\n",
       "      <td>Constituent Call</td>\n",
       "      <td>2022-01-13</td>\n",
       "      <td>12:59:00</td>\n",
       "      <td>2022-01-20</td>\n",
       "      <td>12:59:39</td>\n",
       "      <td>NaT</td>\n",
       "      <td>NaT</td>\n",
       "    </tr>\n",
       "    <tr>\n",
       "      <th>1</th>\n",
       "      <td>2</td>\n",
       "      <td>2022-02-02 11:42:49</td>\n",
       "      <td>2022-02-16 11:42:49</td>\n",
       "      <td>2022-02-02 11:45:47</td>\n",
       "      <td>ONTIME</td>\n",
       "      <td>Closed</td>\n",
       "      <td>Case Closed Case Noted</td>\n",
       "      <td>PublicWorks: Complaint</td>\n",
       "      <td>Mayor's 24 Hour Hotline</td>\n",
       "      <td>Employee &amp; General Comments</td>\n",
       "      <td>...</td>\n",
       "      <td>NaN</td>\n",
       "      <td>42.3594</td>\n",
       "      <td>-71.0587</td>\n",
       "      <td>Constituent Call</td>\n",
       "      <td>2022-02-02</td>\n",
       "      <td>11:42:49</td>\n",
       "      <td>2022-02-16</td>\n",
       "      <td>11:42:49</td>\n",
       "      <td>2022-02-02</td>\n",
       "      <td>11:45:47</td>\n",
       "    </tr>\n",
       "    <tr>\n",
       "      <th>2</th>\n",
       "      <td>3</td>\n",
       "      <td>2022-01-28 19:36:00</td>\n",
       "      <td>NaN</td>\n",
       "      <td>NaN</td>\n",
       "      <td>ONTIME</td>\n",
       "      <td>Open</td>\n",
       "      <td></td>\n",
       "      <td>Space Savers</td>\n",
       "      <td>Public Works Department</td>\n",
       "      <td>Sanitation</td>\n",
       "      <td>...</td>\n",
       "      <td>2124.0</td>\n",
       "      <td>42.2876</td>\n",
       "      <td>-71.0936</td>\n",
       "      <td>Constituent Call</td>\n",
       "      <td>2022-01-28</td>\n",
       "      <td>19:36:00</td>\n",
       "      <td>NaT</td>\n",
       "      <td>NaT</td>\n",
       "      <td>NaT</td>\n",
       "      <td>NaT</td>\n",
       "    </tr>\n",
       "    <tr>\n",
       "      <th>3</th>\n",
       "      <td>4</td>\n",
       "      <td>2022-01-01 00:36:24</td>\n",
       "      <td>2022-01-04 08:30:00</td>\n",
       "      <td>2022-01-03 00:13:17</td>\n",
       "      <td>ONTIME</td>\n",
       "      <td>Closed</td>\n",
       "      <td>Case Closed. Closed date : 2022-01-03 00:13:17...</td>\n",
       "      <td>Parking Enforcement</td>\n",
       "      <td>Transportation - Traffic Division</td>\n",
       "      <td>Enforcement &amp; Abandoned Vehicles</td>\n",
       "      <td>...</td>\n",
       "      <td>NaN</td>\n",
       "      <td>42.3594</td>\n",
       "      <td>-71.0587</td>\n",
       "      <td>Citizens Connect App</td>\n",
       "      <td>2022-01-01</td>\n",
       "      <td>00:36:24</td>\n",
       "      <td>2022-01-04</td>\n",
       "      <td>08:30:00</td>\n",
       "      <td>2022-01-03</td>\n",
       "      <td>00:13:17</td>\n",
       "    </tr>\n",
       "    <tr>\n",
       "      <th>4</th>\n",
       "      <td>5</td>\n",
       "      <td>2022-01-11 09:47:00</td>\n",
       "      <td>2022-02-10 09:47:22</td>\n",
       "      <td>NaN</td>\n",
       "      <td>OVERDUE</td>\n",
       "      <td>Open</td>\n",
       "      <td></td>\n",
       "      <td>DISPATCHED Heat - Excessive  Insufficient</td>\n",
       "      <td>Inspectional Services</td>\n",
       "      <td>Housing</td>\n",
       "      <td>...</td>\n",
       "      <td>2121.0</td>\n",
       "      <td>42.3110</td>\n",
       "      <td>-71.0841</td>\n",
       "      <td>Constituent Call</td>\n",
       "      <td>2022-01-11</td>\n",
       "      <td>09:47:00</td>\n",
       "      <td>2022-02-10</td>\n",
       "      <td>09:47:22</td>\n",
       "      <td>NaT</td>\n",
       "      <td>NaT</td>\n",
       "    </tr>\n",
       "  </tbody>\n",
       "</table>\n",
       "<p>5 rows × 35 columns</p>\n",
       "</div>"
      ],
      "text/plain": [
       "   case_enquiry_id              open_dt            target_dt  \\\n",
       "0                1  2022-01-13 12:59:00  2022-01-20 12:59:39   \n",
       "1                2  2022-02-02 11:42:49  2022-02-16 11:42:49   \n",
       "2                3  2022-01-28 19:36:00                  NaN   \n",
       "3                4  2022-01-01 00:36:24  2022-01-04 08:30:00   \n",
       "4                5  2022-01-11 09:47:00  2022-02-10 09:47:22   \n",
       "\n",
       "             closed_dt   ontime case_status  \\\n",
       "0                  NaN  OVERDUE        Open   \n",
       "1  2022-02-02 11:45:47   ONTIME      Closed   \n",
       "2                  NaN   ONTIME        Open   \n",
       "3  2022-01-03 00:13:17   ONTIME      Closed   \n",
       "4                  NaN  OVERDUE        Open   \n",
       "\n",
       "                                      closure_reason  \\\n",
       "0                                                      \n",
       "1                         Case Closed Case Noted       \n",
       "2                                                      \n",
       "3  Case Closed. Closed date : 2022-01-03 00:13:17...   \n",
       "4                                                      \n",
       "\n",
       "                                  case_title  \\\n",
       "0                      Illegal Rooming House   \n",
       "1                     PublicWorks: Complaint   \n",
       "2                               Space Savers   \n",
       "3                        Parking Enforcement   \n",
       "4  DISPATCHED Heat - Excessive  Insufficient   \n",
       "\n",
       "                    dept_responsible                  team_responsible  ...  \\\n",
       "0              Inspectional Services                          Building  ...   \n",
       "1            Mayor's 24 Hour Hotline       Employee & General Comments  ...   \n",
       "2            Public Works Department                        Sanitation  ...   \n",
       "3  Transportation - Traffic Division  Enforcement & Abandoned Vehicles  ...   \n",
       "4              Inspectional Services                           Housing  ...   \n",
       "\n",
       "  location_zipcode latitude longitude                source   open_date  \\\n",
       "0           2124.0  42.2896  -71.0701      Constituent Call  2022-01-13   \n",
       "1              NaN  42.3594  -71.0587      Constituent Call  2022-02-02   \n",
       "2           2124.0  42.2876  -71.0936      Constituent Call  2022-01-28   \n",
       "3              NaN  42.3594  -71.0587  Citizens Connect App  2022-01-01   \n",
       "4           2121.0  42.3110  -71.0841      Constituent Call  2022-01-11   \n",
       "\n",
       "  open_time target_date target_time closure_date closure_time  \n",
       "0  12:59:00  2022-01-20    12:59:39          NaT          NaT  \n",
       "1  11:42:49  2022-02-16    11:42:49   2022-02-02     11:45:47  \n",
       "2  19:36:00         NaT         NaT          NaT          NaT  \n",
       "3  00:36:24  2022-01-04    08:30:00   2022-01-03     00:13:17  \n",
       "4  09:47:00  2022-02-10    09:47:22          NaT          NaT  \n",
       "\n",
       "[5 rows x 35 columns]"
      ]
     },
     "execution_count": 6,
     "metadata": {},
     "output_type": "execute_result"
    }
   ],
   "source": [
    "data.rename(columns={\"subject\": \"dept_responsible\",\n",
    "                     \"reason\": \"team_responsible\",\n",
    "                     \"type\": \"complain_type\"}, \n",
    "            inplace= True)\n",
    "data.head()"
   ]
  },
  {
   "cell_type": "markdown",
   "id": "e8283a0b",
   "metadata": {},
   "source": [
    "### Converting the photo columns to boolean values"
   ]
  },
  {
   "cell_type": "code",
   "execution_count": 7,
   "id": "9bb47c88",
   "metadata": {},
   "outputs": [
    {
     "data": {
      "text/html": [
       "<div>\n",
       "<style scoped>\n",
       "    .dataframe tbody tr th:only-of-type {\n",
       "        vertical-align: middle;\n",
       "    }\n",
       "\n",
       "    .dataframe tbody tr th {\n",
       "        vertical-align: top;\n",
       "    }\n",
       "\n",
       "    .dataframe thead th {\n",
       "        text-align: right;\n",
       "    }\n",
       "</style>\n",
       "<table border=\"1\" class=\"dataframe\">\n",
       "  <thead>\n",
       "    <tr style=\"text-align: right;\">\n",
       "      <th></th>\n",
       "      <th>submittedphoto</th>\n",
       "      <th>closedphoto</th>\n",
       "    </tr>\n",
       "  </thead>\n",
       "  <tbody>\n",
       "    <tr>\n",
       "      <th>0</th>\n",
       "      <td>0</td>\n",
       "      <td>0</td>\n",
       "    </tr>\n",
       "    <tr>\n",
       "      <th>1</th>\n",
       "      <td>0</td>\n",
       "      <td>0</td>\n",
       "    </tr>\n",
       "    <tr>\n",
       "      <th>2</th>\n",
       "      <td>0</td>\n",
       "      <td>0</td>\n",
       "    </tr>\n",
       "    <tr>\n",
       "      <th>3</th>\n",
       "      <td>1</td>\n",
       "      <td>0</td>\n",
       "    </tr>\n",
       "    <tr>\n",
       "      <th>4</th>\n",
       "      <td>0</td>\n",
       "      <td>0</td>\n",
       "    </tr>\n",
       "    <tr>\n",
       "      <th>...</th>\n",
       "      <td>...</td>\n",
       "      <td>...</td>\n",
       "    </tr>\n",
       "    <tr>\n",
       "      <th>276718</th>\n",
       "      <td>0</td>\n",
       "      <td>0</td>\n",
       "    </tr>\n",
       "    <tr>\n",
       "      <th>276719</th>\n",
       "      <td>0</td>\n",
       "      <td>1</td>\n",
       "    </tr>\n",
       "    <tr>\n",
       "      <th>276720</th>\n",
       "      <td>0</td>\n",
       "      <td>1</td>\n",
       "    </tr>\n",
       "    <tr>\n",
       "      <th>276721</th>\n",
       "      <td>0</td>\n",
       "      <td>0</td>\n",
       "    </tr>\n",
       "    <tr>\n",
       "      <th>276722</th>\n",
       "      <td>0</td>\n",
       "      <td>0</td>\n",
       "    </tr>\n",
       "  </tbody>\n",
       "</table>\n",
       "<p>276723 rows × 2 columns</p>\n",
       "</div>"
      ],
      "text/plain": [
       "        submittedphoto  closedphoto\n",
       "0                    0            0\n",
       "1                    0            0\n",
       "2                    0            0\n",
       "3                    1            0\n",
       "4                    0            0\n",
       "...                ...          ...\n",
       "276718               0            0\n",
       "276719               0            1\n",
       "276720               0            1\n",
       "276721               0            0\n",
       "276722               0            0\n",
       "\n",
       "[276723 rows x 2 columns]"
      ]
     },
     "execution_count": 7,
     "metadata": {},
     "output_type": "execute_result"
    }
   ],
   "source": [
    "data[\"submittedphoto\"]= data[\"submittedphoto\"].fillna(0).astype(bool).astype(int)\n",
    "data[\"closedphoto\"]= data[\"closedphoto\"].fillna(0).astype(bool).astype(int)\n",
    "data[[\"submittedphoto\", \"closedphoto\"]]\n"
   ]
  },
  {
   "cell_type": "code",
   "execution_count": null,
   "id": "9123dfd6",
   "metadata": {},
   "outputs": [],
   "source": [
    "### Creating dummy vaues for the source column"
   ]
  },
  {
   "cell_type": "code",
   "execution_count": 8,
   "id": "9f232c88",
   "metadata": {
    "scrolled": true
   },
   "outputs": [
    {
     "data": {
      "text/html": [
       "<div>\n",
       "<style scoped>\n",
       "    .dataframe tbody tr th:only-of-type {\n",
       "        vertical-align: middle;\n",
       "    }\n",
       "\n",
       "    .dataframe tbody tr th {\n",
       "        vertical-align: top;\n",
       "    }\n",
       "\n",
       "    .dataframe thead th {\n",
       "        text-align: right;\n",
       "    }\n",
       "</style>\n",
       "<table border=\"1\" class=\"dataframe\">\n",
       "  <thead>\n",
       "    <tr style=\"text-align: right;\">\n",
       "      <th></th>\n",
       "      <th>case_enquiry_id</th>\n",
       "      <th>open_dt</th>\n",
       "      <th>target_dt</th>\n",
       "      <th>closed_dt</th>\n",
       "      <th>ontime</th>\n",
       "      <th>case_status</th>\n",
       "      <th>closure_reason</th>\n",
       "      <th>case_title</th>\n",
       "      <th>dept_responsible</th>\n",
       "      <th>team_responsible</th>\n",
       "      <th>...</th>\n",
       "      <th>open_date</th>\n",
       "      <th>open_time</th>\n",
       "      <th>target_date</th>\n",
       "      <th>target_time</th>\n",
       "      <th>closure_date</th>\n",
       "      <th>closure_time</th>\n",
       "      <th>source_City Worker App</th>\n",
       "      <th>source_Constituent Call</th>\n",
       "      <th>source_Employee Generated</th>\n",
       "      <th>source_Self Service</th>\n",
       "    </tr>\n",
       "  </thead>\n",
       "  <tbody>\n",
       "    <tr>\n",
       "      <th>0</th>\n",
       "      <td>1</td>\n",
       "      <td>2022-01-13 12:59:00</td>\n",
       "      <td>2022-01-20 12:59:39</td>\n",
       "      <td>NaN</td>\n",
       "      <td>OVERDUE</td>\n",
       "      <td>Open</td>\n",
       "      <td></td>\n",
       "      <td>Illegal Rooming House</td>\n",
       "      <td>Inspectional Services</td>\n",
       "      <td>Building</td>\n",
       "      <td>...</td>\n",
       "      <td>2022-01-13</td>\n",
       "      <td>12:59:00</td>\n",
       "      <td>2022-01-20</td>\n",
       "      <td>12:59:39</td>\n",
       "      <td>NaT</td>\n",
       "      <td>NaT</td>\n",
       "      <td>0</td>\n",
       "      <td>1</td>\n",
       "      <td>0</td>\n",
       "      <td>0</td>\n",
       "    </tr>\n",
       "    <tr>\n",
       "      <th>1</th>\n",
       "      <td>2</td>\n",
       "      <td>2022-02-02 11:42:49</td>\n",
       "      <td>2022-02-16 11:42:49</td>\n",
       "      <td>2022-02-02 11:45:47</td>\n",
       "      <td>ONTIME</td>\n",
       "      <td>Closed</td>\n",
       "      <td>Case Closed Case Noted</td>\n",
       "      <td>PublicWorks: Complaint</td>\n",
       "      <td>Mayor's 24 Hour Hotline</td>\n",
       "      <td>Employee &amp; General Comments</td>\n",
       "      <td>...</td>\n",
       "      <td>2022-02-02</td>\n",
       "      <td>11:42:49</td>\n",
       "      <td>2022-02-16</td>\n",
       "      <td>11:42:49</td>\n",
       "      <td>2022-02-02</td>\n",
       "      <td>11:45:47</td>\n",
       "      <td>0</td>\n",
       "      <td>1</td>\n",
       "      <td>0</td>\n",
       "      <td>0</td>\n",
       "    </tr>\n",
       "    <tr>\n",
       "      <th>2</th>\n",
       "      <td>3</td>\n",
       "      <td>2022-01-28 19:36:00</td>\n",
       "      <td>NaN</td>\n",
       "      <td>NaN</td>\n",
       "      <td>ONTIME</td>\n",
       "      <td>Open</td>\n",
       "      <td></td>\n",
       "      <td>Space Savers</td>\n",
       "      <td>Public Works Department</td>\n",
       "      <td>Sanitation</td>\n",
       "      <td>...</td>\n",
       "      <td>2022-01-28</td>\n",
       "      <td>19:36:00</td>\n",
       "      <td>NaT</td>\n",
       "      <td>NaT</td>\n",
       "      <td>NaT</td>\n",
       "      <td>NaT</td>\n",
       "      <td>0</td>\n",
       "      <td>1</td>\n",
       "      <td>0</td>\n",
       "      <td>0</td>\n",
       "    </tr>\n",
       "    <tr>\n",
       "      <th>3</th>\n",
       "      <td>4</td>\n",
       "      <td>2022-01-01 00:36:24</td>\n",
       "      <td>2022-01-04 08:30:00</td>\n",
       "      <td>2022-01-03 00:13:17</td>\n",
       "      <td>ONTIME</td>\n",
       "      <td>Closed</td>\n",
       "      <td>Case Closed. Closed date : 2022-01-03 00:13:17...</td>\n",
       "      <td>Parking Enforcement</td>\n",
       "      <td>Transportation - Traffic Division</td>\n",
       "      <td>Enforcement &amp; Abandoned Vehicles</td>\n",
       "      <td>...</td>\n",
       "      <td>2022-01-01</td>\n",
       "      <td>00:36:24</td>\n",
       "      <td>2022-01-04</td>\n",
       "      <td>08:30:00</td>\n",
       "      <td>2022-01-03</td>\n",
       "      <td>00:13:17</td>\n",
       "      <td>0</td>\n",
       "      <td>0</td>\n",
       "      <td>0</td>\n",
       "      <td>0</td>\n",
       "    </tr>\n",
       "    <tr>\n",
       "      <th>4</th>\n",
       "      <td>5</td>\n",
       "      <td>2022-01-11 09:47:00</td>\n",
       "      <td>2022-02-10 09:47:22</td>\n",
       "      <td>NaN</td>\n",
       "      <td>OVERDUE</td>\n",
       "      <td>Open</td>\n",
       "      <td></td>\n",
       "      <td>DISPATCHED Heat - Excessive  Insufficient</td>\n",
       "      <td>Inspectional Services</td>\n",
       "      <td>Housing</td>\n",
       "      <td>...</td>\n",
       "      <td>2022-01-11</td>\n",
       "      <td>09:47:00</td>\n",
       "      <td>2022-02-10</td>\n",
       "      <td>09:47:22</td>\n",
       "      <td>NaT</td>\n",
       "      <td>NaT</td>\n",
       "      <td>0</td>\n",
       "      <td>1</td>\n",
       "      <td>0</td>\n",
       "      <td>0</td>\n",
       "    </tr>\n",
       "  </tbody>\n",
       "</table>\n",
       "<p>5 rows × 38 columns</p>\n",
       "</div>"
      ],
      "text/plain": [
       "   case_enquiry_id              open_dt            target_dt  \\\n",
       "0                1  2022-01-13 12:59:00  2022-01-20 12:59:39   \n",
       "1                2  2022-02-02 11:42:49  2022-02-16 11:42:49   \n",
       "2                3  2022-01-28 19:36:00                  NaN   \n",
       "3                4  2022-01-01 00:36:24  2022-01-04 08:30:00   \n",
       "4                5  2022-01-11 09:47:00  2022-02-10 09:47:22   \n",
       "\n",
       "             closed_dt   ontime case_status  \\\n",
       "0                  NaN  OVERDUE        Open   \n",
       "1  2022-02-02 11:45:47   ONTIME      Closed   \n",
       "2                  NaN   ONTIME        Open   \n",
       "3  2022-01-03 00:13:17   ONTIME      Closed   \n",
       "4                  NaN  OVERDUE        Open   \n",
       "\n",
       "                                      closure_reason  \\\n",
       "0                                                      \n",
       "1                         Case Closed Case Noted       \n",
       "2                                                      \n",
       "3  Case Closed. Closed date : 2022-01-03 00:13:17...   \n",
       "4                                                      \n",
       "\n",
       "                                  case_title  \\\n",
       "0                      Illegal Rooming House   \n",
       "1                     PublicWorks: Complaint   \n",
       "2                               Space Savers   \n",
       "3                        Parking Enforcement   \n",
       "4  DISPATCHED Heat - Excessive  Insufficient   \n",
       "\n",
       "                    dept_responsible                  team_responsible  ...  \\\n",
       "0              Inspectional Services                          Building  ...   \n",
       "1            Mayor's 24 Hour Hotline       Employee & General Comments  ...   \n",
       "2            Public Works Department                        Sanitation  ...   \n",
       "3  Transportation - Traffic Division  Enforcement & Abandoned Vehicles  ...   \n",
       "4              Inspectional Services                           Housing  ...   \n",
       "\n",
       "    open_date open_time target_date  target_time  closure_date closure_time  \\\n",
       "0  2022-01-13  12:59:00  2022-01-20     12:59:39           NaT          NaT   \n",
       "1  2022-02-02  11:42:49  2022-02-16     11:42:49    2022-02-02     11:45:47   \n",
       "2  2022-01-28  19:36:00         NaT          NaT           NaT          NaT   \n",
       "3  2022-01-01  00:36:24  2022-01-04     08:30:00    2022-01-03     00:13:17   \n",
       "4  2022-01-11  09:47:00  2022-02-10     09:47:22           NaT          NaT   \n",
       "\n",
       "  source_City Worker App source_Constituent Call source_Employee Generated  \\\n",
       "0                      0                       1                         0   \n",
       "1                      0                       1                         0   \n",
       "2                      0                       1                         0   \n",
       "3                      0                       0                         0   \n",
       "4                      0                       1                         0   \n",
       "\n",
       "  source_Self Service  \n",
       "0                   0  \n",
       "1                   0  \n",
       "2                   0  \n",
       "3                   0  \n",
       "4                   0  \n",
       "\n",
       "[5 rows x 38 columns]"
      ]
     },
     "execution_count": 8,
     "metadata": {},
     "output_type": "execute_result"
    }
   ],
   "source": [
    "data = pd.get_dummies(data, columns=['source'], drop_first = True)\n",
    "data.head()"
   ]
  },
  {
   "cell_type": "markdown",
   "id": "bb359c0c",
   "metadata": {},
   "source": [
    "### Handling null, empty and missing values"
   ]
  },
  {
   "cell_type": "code",
   "execution_count": 9,
   "id": "8822aaa2",
   "metadata": {},
   "outputs": [],
   "source": [
    "data['location_street_name'] = data['location_street_name'].fillna('No info provided')"
   ]
  },
  {
   "cell_type": "code",
   "execution_count": 10,
   "id": "dc1e5190",
   "metadata": {},
   "outputs": [],
   "source": [
    "data['location'] = data['location'].replace(['',' '],['No info provided','No info provided'])\n",
    "data['neighborhood'] = data['neighborhood'].replace(['',' '],['No info provided','No info provided'])\n",
    "data['ontime'] = data['ontime'].replace({'ONTIME': 1, 'OVERDUE': 0})\n",
    "data['case_status'] = data['case_status'].replace({'Closed': 1, 'Open': 0})\n"
   ]
  },
  {
   "cell_type": "code",
   "execution_count": 11,
   "id": "e3e33d60",
   "metadata": {
    "scrolled": true
   },
   "outputs": [
    {
     "data": {
      "text/html": [
       "<div>\n",
       "<style scoped>\n",
       "    .dataframe tbody tr th:only-of-type {\n",
       "        vertical-align: middle;\n",
       "    }\n",
       "\n",
       "    .dataframe tbody tr th {\n",
       "        vertical-align: top;\n",
       "    }\n",
       "\n",
       "    .dataframe thead th {\n",
       "        text-align: right;\n",
       "    }\n",
       "</style>\n",
       "<table border=\"1\" class=\"dataframe\">\n",
       "  <thead>\n",
       "    <tr style=\"text-align: right;\">\n",
       "      <th></th>\n",
       "      <th>ontime</th>\n",
       "      <th>case_status</th>\n",
       "      <th>location</th>\n",
       "      <th>neighborhood</th>\n",
       "      <th>location_street_name</th>\n",
       "    </tr>\n",
       "  </thead>\n",
       "  <tbody>\n",
       "    <tr>\n",
       "      <th>0</th>\n",
       "      <td>0</td>\n",
       "      <td>0</td>\n",
       "      <td>27 Lithgow St  Dorchester  MA  02124</td>\n",
       "      <td>Dorchester</td>\n",
       "      <td>27 Lithgow St</td>\n",
       "    </tr>\n",
       "    <tr>\n",
       "      <th>1</th>\n",
       "      <td>1</td>\n",
       "      <td>1</td>\n",
       "      <td>No info provided</td>\n",
       "      <td>No info provided</td>\n",
       "      <td>No info provided</td>\n",
       "    </tr>\n",
       "    <tr>\n",
       "      <th>2</th>\n",
       "      <td>1</td>\n",
       "      <td>0</td>\n",
       "      <td>492 Harvard St  Dorchester  MA  02124</td>\n",
       "      <td>Greater Mattapan</td>\n",
       "      <td>492 Harvard St</td>\n",
       "    </tr>\n",
       "    <tr>\n",
       "      <th>3</th>\n",
       "      <td>1</td>\n",
       "      <td>1</td>\n",
       "      <td>INTERSECTION of Seaport Blvd &amp; Sleeper St  Bos...</td>\n",
       "      <td>South Boston / South Boston Waterfront</td>\n",
       "      <td>INTERSECTION Seaport Blvd &amp; Sleeper St</td>\n",
       "    </tr>\n",
       "    <tr>\n",
       "      <th>4</th>\n",
       "      <td>0</td>\n",
       "      <td>0</td>\n",
       "      <td>15 Crawford St  Dorchester  MA  02121</td>\n",
       "      <td>Roxbury</td>\n",
       "      <td>15 Crawford St</td>\n",
       "    </tr>\n",
       "    <tr>\n",
       "      <th>...</th>\n",
       "      <td>...</td>\n",
       "      <td>...</td>\n",
       "      <td>...</td>\n",
       "      <td>...</td>\n",
       "      <td>...</td>\n",
       "    </tr>\n",
       "    <tr>\n",
       "      <th>276718</th>\n",
       "      <td>1</td>\n",
       "      <td>1</td>\n",
       "      <td>INTERSECTION of Woodward St &amp; Dorchester St  S...</td>\n",
       "      <td>South Boston / South Boston Waterfront</td>\n",
       "      <td>INTERSECTION Woodward St &amp; Dorchester St</td>\n",
       "    </tr>\n",
       "    <tr>\n",
       "      <th>276719</th>\n",
       "      <td>0</td>\n",
       "      <td>1</td>\n",
       "      <td>2 Ayr Rd  Brighton  MA  02135</td>\n",
       "      <td>Allston / Brighton</td>\n",
       "      <td>2 Ayr Rd</td>\n",
       "    </tr>\n",
       "    <tr>\n",
       "      <th>276720</th>\n",
       "      <td>1</td>\n",
       "      <td>1</td>\n",
       "      <td>4 Union Park St  Roxbury  MA  02118</td>\n",
       "      <td>South End</td>\n",
       "      <td>4 Union Park St</td>\n",
       "    </tr>\n",
       "    <tr>\n",
       "      <th>276721</th>\n",
       "      <td>1</td>\n",
       "      <td>1</td>\n",
       "      <td>81 Mayfield St  Dorchester  MA  02125</td>\n",
       "      <td>Dorchester</td>\n",
       "      <td>81 Mayfield St</td>\n",
       "    </tr>\n",
       "    <tr>\n",
       "      <th>276722</th>\n",
       "      <td>1</td>\n",
       "      <td>1</td>\n",
       "      <td>100 Legends Way  Boston  MA  02114</td>\n",
       "      <td>Boston</td>\n",
       "      <td>100 Legends Way</td>\n",
       "    </tr>\n",
       "  </tbody>\n",
       "</table>\n",
       "<p>276723 rows × 5 columns</p>\n",
       "</div>"
      ],
      "text/plain": [
       "        ontime  case_status  \\\n",
       "0            0            0   \n",
       "1            1            1   \n",
       "2            1            0   \n",
       "3            1            1   \n",
       "4            0            0   \n",
       "...        ...          ...   \n",
       "276718       1            1   \n",
       "276719       0            1   \n",
       "276720       1            1   \n",
       "276721       1            1   \n",
       "276722       1            1   \n",
       "\n",
       "                                                 location  \\\n",
       "0                    27 Lithgow St  Dorchester  MA  02124   \n",
       "1                                        No info provided   \n",
       "2                   492 Harvard St  Dorchester  MA  02124   \n",
       "3       INTERSECTION of Seaport Blvd & Sleeper St  Bos...   \n",
       "4                   15 Crawford St  Dorchester  MA  02121   \n",
       "...                                                   ...   \n",
       "276718  INTERSECTION of Woodward St & Dorchester St  S...   \n",
       "276719                      2 Ayr Rd  Brighton  MA  02135   \n",
       "276720                4 Union Park St  Roxbury  MA  02118   \n",
       "276721              81 Mayfield St  Dorchester  MA  02125   \n",
       "276722                 100 Legends Way  Boston  MA  02114   \n",
       "\n",
       "                                  neighborhood  \\\n",
       "0                                   Dorchester   \n",
       "1                             No info provided   \n",
       "2                             Greater Mattapan   \n",
       "3       South Boston / South Boston Waterfront   \n",
       "4                                      Roxbury   \n",
       "...                                        ...   \n",
       "276718  South Boston / South Boston Waterfront   \n",
       "276719                      Allston / Brighton   \n",
       "276720                               South End   \n",
       "276721                              Dorchester   \n",
       "276722                                  Boston   \n",
       "\n",
       "                            location_street_name  \n",
       "0                                  27 Lithgow St  \n",
       "1                               No info provided  \n",
       "2                                 492 Harvard St  \n",
       "3         INTERSECTION Seaport Blvd & Sleeper St  \n",
       "4                                 15 Crawford St  \n",
       "...                                          ...  \n",
       "276718  INTERSECTION Woodward St & Dorchester St  \n",
       "276719                                  2 Ayr Rd  \n",
       "276720                           4 Union Park St  \n",
       "276721                            81 Mayfield St  \n",
       "276722                           100 Legends Way  \n",
       "\n",
       "[276723 rows x 5 columns]"
      ]
     },
     "execution_count": 11,
     "metadata": {},
     "output_type": "execute_result"
    }
   ],
   "source": [
    "data[[\"ontime\", \"case_status\",\"location\", \"neighborhood\", \"location_street_name\"]]"
   ]
  },
  {
   "cell_type": "markdown",
   "id": "7e08dbdf",
   "metadata": {},
   "source": [
    "### Converting 4 digit zip code to 5 digit"
   ]
  },
  {
   "cell_type": "code",
   "execution_count": 12,
   "id": "b4bcefeb",
   "metadata": {},
   "outputs": [
    {
     "data": {
      "text/plain": [
       "dtype('O')"
      ]
     },
     "execution_count": 12,
     "metadata": {},
     "output_type": "execute_result"
    }
   ],
   "source": [
    "data['location_zipcode'] = data['location_zipcode'].astype('str')\n",
    "\n",
    "data['location_zipcode'].dtype"
   ]
  },
  {
   "cell_type": "code",
   "execution_count": 13,
   "id": "b2bfe6d4",
   "metadata": {},
   "outputs": [
    {
     "data": {
      "text/plain": [
       "0         02124\n",
       "1         0000n\n",
       "2         02124\n",
       "3         0000n\n",
       "4         02121\n",
       "          ...  \n",
       "276718    0000n\n",
       "276719    02135\n",
       "276720    02118\n",
       "276721    02125\n",
       "276722    02114\n",
       "Name: location_zipcode, Length: 276723, dtype: object"
      ]
     },
     "execution_count": 13,
     "metadata": {},
     "output_type": "execute_result"
    }
   ],
   "source": [
    "data['location_zipcode'] = data['location_zipcode'] .str.slice(stop=-2)\n",
    "data['location_zipcode'] = data['location_zipcode'].astype(str).str.zfill(5)\n",
    "data['location_zipcode']"
   ]
  },
  {
   "cell_type": "code",
   "execution_count": 14,
   "id": "30f30afc",
   "metadata": {},
   "outputs": [
    {
     "data": {
      "text/plain": [
       "0                    02124\n",
       "1         No info provided\n",
       "2                    02124\n",
       "3         No info provided\n",
       "4                    02121\n",
       "                ...       \n",
       "276718    No info provided\n",
       "276719               02135\n",
       "276720               02118\n",
       "276721               02125\n",
       "276722               02114\n",
       "Name: location_zipcode, Length: 276723, dtype: object"
      ]
     },
     "execution_count": 14,
     "metadata": {},
     "output_type": "execute_result"
    }
   ],
   "source": [
    "data['location_zipcode'] = data['location_zipcode'].replace(['0000n'],['No info provided'])\n",
    "data['location_zipcode']"
   ]
  },
  {
   "cell_type": "markdown",
   "id": "aef4cf18",
   "metadata": {},
   "source": [
    "### Dropping unwanted columns"
   ]
  },
  {
   "cell_type": "code",
   "execution_count": 15,
   "id": "631ca4de",
   "metadata": {},
   "outputs": [
    {
     "data": {
      "text/plain": [
       "Index(['case_enquiry_id', 'open_dt', 'target_dt', 'closed_dt', 'ontime',\n",
       "       'case_status', 'closure_reason', 'case_title', 'dept_responsible',\n",
       "       'team_responsible', 'complain_type', 'queue', 'department',\n",
       "       'submittedphoto', 'closedphoto', 'location', 'fire_district',\n",
       "       'pwd_district', 'city_council_district', 'police_district',\n",
       "       'neighborhood', 'neighborhood_services_district', 'ward', 'precinct',\n",
       "       'location_street_name', 'location_zipcode', 'latitude', 'longitude',\n",
       "       'open_date', 'open_time', 'target_date', 'target_time', 'closure_date',\n",
       "       'closure_time', 'source_City Worker App', 'source_Constituent Call',\n",
       "       'source_Employee Generated', 'source_Self Service'],\n",
       "      dtype='object')"
      ]
     },
     "execution_count": 15,
     "metadata": {},
     "output_type": "execute_result"
    }
   ],
   "source": [
    "data.columns"
   ]
  },
  {
   "cell_type": "code",
   "execution_count": 16,
   "id": "ff560152",
   "metadata": {},
   "outputs": [],
   "source": [
    "data1 = data.drop(['ward', 'precinct', 'case_enquiry_id', 'open_dt', \n",
    "                   'target_dt', 'closed_dt', 'queue', 'closure_reason',\n",
    "                   'fire_district', 'pwd_district', 'city_council_district', \n",
    "                   'police_district','department',\n",
    "                   'neighborhood_services_district'], axis=1)"
   ]
  },
  {
   "cell_type": "code",
   "execution_count": 17,
   "id": "ef7556a2",
   "metadata": {},
   "outputs": [
    {
     "data": {
      "text/plain": [
       "Index(['ontime', 'case_status', 'case_title', 'dept_responsible',\n",
       "       'team_responsible', 'complain_type', 'submittedphoto', 'closedphoto',\n",
       "       'location', 'neighborhood', 'location_street_name', 'location_zipcode',\n",
       "       'latitude', 'longitude', 'open_date', 'open_time', 'target_date',\n",
       "       'target_time', 'closure_date', 'closure_time', 'source_City Worker App',\n",
       "       'source_Constituent Call', 'source_Employee Generated',\n",
       "       'source_Self Service'],\n",
       "      dtype='object')"
      ]
     },
     "execution_count": 17,
     "metadata": {},
     "output_type": "execute_result"
    }
   ],
   "source": [
    "data1.columns"
   ]
  },
  {
   "cell_type": "code",
   "execution_count": 18,
   "id": "0926539f",
   "metadata": {},
   "outputs": [],
   "source": [
    "freq_per_value1 = data1['ontime'].value_counts()"
   ]
  },
  {
   "cell_type": "code",
   "execution_count": 19,
   "id": "a6f021e6",
   "metadata": {},
   "outputs": [
    {
     "data": {
      "text/plain": [
       "1    230449\n",
       "0     46274\n",
       "Name: ontime, dtype: int64"
      ]
     },
     "execution_count": 19,
     "metadata": {},
     "output_type": "execute_result"
    }
   ],
   "source": [
    "freq_per_value1"
   ]
  },
  {
   "cell_type": "code",
   "execution_count": null,
   "id": "d93b7a5e",
   "metadata": {},
   "outputs": [],
   "source": [
    "#Exporting data into csv file\n",
    "data1.to_csv(\"311_2022_Cleaned.csv\", index= False)\n"
   ]
  },
  {
   "cell_type": "code",
   "execution_count": 20,
   "id": "a76d3bdb",
   "metadata": {},
   "outputs": [
    {
     "data": {
      "text/html": [
       "<div>\n",
       "<style scoped>\n",
       "    .dataframe tbody tr th:only-of-type {\n",
       "        vertical-align: middle;\n",
       "    }\n",
       "\n",
       "    .dataframe tbody tr th {\n",
       "        vertical-align: top;\n",
       "    }\n",
       "\n",
       "    .dataframe thead th {\n",
       "        text-align: right;\n",
       "    }\n",
       "</style>\n",
       "<table border=\"1\" class=\"dataframe\">\n",
       "  <thead>\n",
       "    <tr style=\"text-align: right;\">\n",
       "      <th></th>\n",
       "      <th>ontime</th>\n",
       "      <th>case_status</th>\n",
       "      <th>case_title</th>\n",
       "      <th>dept_responsible</th>\n",
       "      <th>team_responsible</th>\n",
       "      <th>complain_type</th>\n",
       "      <th>submittedphoto</th>\n",
       "      <th>closedphoto</th>\n",
       "      <th>location</th>\n",
       "      <th>neighborhood</th>\n",
       "      <th>...</th>\n",
       "      <th>open_date</th>\n",
       "      <th>open_time</th>\n",
       "      <th>target_date</th>\n",
       "      <th>target_time</th>\n",
       "      <th>closure_date</th>\n",
       "      <th>closure_time</th>\n",
       "      <th>source_City Worker App</th>\n",
       "      <th>source_Constituent Call</th>\n",
       "      <th>source_Employee Generated</th>\n",
       "      <th>source_Self Service</th>\n",
       "    </tr>\n",
       "  </thead>\n",
       "  <tbody>\n",
       "    <tr>\n",
       "      <th>0</th>\n",
       "      <td>0</td>\n",
       "      <td>0</td>\n",
       "      <td>Illegal Rooming House</td>\n",
       "      <td>Inspectional Services</td>\n",
       "      <td>Building</td>\n",
       "      <td>Illegal Rooming House</td>\n",
       "      <td>0</td>\n",
       "      <td>0</td>\n",
       "      <td>27 Lithgow St  Dorchester  MA  02124</td>\n",
       "      <td>Dorchester</td>\n",
       "      <td>...</td>\n",
       "      <td>2022-01-13</td>\n",
       "      <td>12:59:00</td>\n",
       "      <td>2022-01-20</td>\n",
       "      <td>12:59:39</td>\n",
       "      <td>NaT</td>\n",
       "      <td>NaT</td>\n",
       "      <td>0</td>\n",
       "      <td>1</td>\n",
       "      <td>0</td>\n",
       "      <td>0</td>\n",
       "    </tr>\n",
       "    <tr>\n",
       "      <th>1</th>\n",
       "      <td>1</td>\n",
       "      <td>1</td>\n",
       "      <td>PublicWorks: Complaint</td>\n",
       "      <td>Mayor's 24 Hour Hotline</td>\n",
       "      <td>Employee &amp; General Comments</td>\n",
       "      <td>General Comments For a Program or Policy</td>\n",
       "      <td>0</td>\n",
       "      <td>0</td>\n",
       "      <td>No info provided</td>\n",
       "      <td>No info provided</td>\n",
       "      <td>...</td>\n",
       "      <td>2022-02-02</td>\n",
       "      <td>11:42:49</td>\n",
       "      <td>2022-02-16</td>\n",
       "      <td>11:42:49</td>\n",
       "      <td>2022-02-02</td>\n",
       "      <td>11:45:47</td>\n",
       "      <td>0</td>\n",
       "      <td>1</td>\n",
       "      <td>0</td>\n",
       "      <td>0</td>\n",
       "    </tr>\n",
       "    <tr>\n",
       "      <th>2</th>\n",
       "      <td>1</td>\n",
       "      <td>0</td>\n",
       "      <td>Space Savers</td>\n",
       "      <td>Public Works Department</td>\n",
       "      <td>Sanitation</td>\n",
       "      <td>Space Savers</td>\n",
       "      <td>0</td>\n",
       "      <td>0</td>\n",
       "      <td>492 Harvard St  Dorchester  MA  02124</td>\n",
       "      <td>Greater Mattapan</td>\n",
       "      <td>...</td>\n",
       "      <td>2022-01-28</td>\n",
       "      <td>19:36:00</td>\n",
       "      <td>NaT</td>\n",
       "      <td>NaT</td>\n",
       "      <td>NaT</td>\n",
       "      <td>NaT</td>\n",
       "      <td>0</td>\n",
       "      <td>1</td>\n",
       "      <td>0</td>\n",
       "      <td>0</td>\n",
       "    </tr>\n",
       "    <tr>\n",
       "      <th>3</th>\n",
       "      <td>1</td>\n",
       "      <td>1</td>\n",
       "      <td>Parking Enforcement</td>\n",
       "      <td>Transportation - Traffic Division</td>\n",
       "      <td>Enforcement &amp; Abandoned Vehicles</td>\n",
       "      <td>Parking Enforcement</td>\n",
       "      <td>1</td>\n",
       "      <td>0</td>\n",
       "      <td>INTERSECTION of Seaport Blvd &amp; Sleeper St  Bos...</td>\n",
       "      <td>South Boston / South Boston Waterfront</td>\n",
       "      <td>...</td>\n",
       "      <td>2022-01-01</td>\n",
       "      <td>00:36:24</td>\n",
       "      <td>2022-01-04</td>\n",
       "      <td>08:30:00</td>\n",
       "      <td>2022-01-03</td>\n",
       "      <td>00:13:17</td>\n",
       "      <td>0</td>\n",
       "      <td>0</td>\n",
       "      <td>0</td>\n",
       "      <td>0</td>\n",
       "    </tr>\n",
       "    <tr>\n",
       "      <th>4</th>\n",
       "      <td>0</td>\n",
       "      <td>0</td>\n",
       "      <td>DISPATCHED Heat - Excessive  Insufficient</td>\n",
       "      <td>Inspectional Services</td>\n",
       "      <td>Housing</td>\n",
       "      <td>Heat - Excessive  Insufficient</td>\n",
       "      <td>0</td>\n",
       "      <td>0</td>\n",
       "      <td>15 Crawford St  Dorchester  MA  02121</td>\n",
       "      <td>Roxbury</td>\n",
       "      <td>...</td>\n",
       "      <td>2022-01-11</td>\n",
       "      <td>09:47:00</td>\n",
       "      <td>2022-02-10</td>\n",
       "      <td>09:47:22</td>\n",
       "      <td>NaT</td>\n",
       "      <td>NaT</td>\n",
       "      <td>0</td>\n",
       "      <td>1</td>\n",
       "      <td>0</td>\n",
       "      <td>0</td>\n",
       "    </tr>\n",
       "  </tbody>\n",
       "</table>\n",
       "<p>5 rows × 24 columns</p>\n",
       "</div>"
      ],
      "text/plain": [
       "   ontime  case_status                                 case_title  \\\n",
       "0       0            0                      Illegal Rooming House   \n",
       "1       1            1                     PublicWorks: Complaint   \n",
       "2       1            0                               Space Savers   \n",
       "3       1            1                        Parking Enforcement   \n",
       "4       0            0  DISPATCHED Heat - Excessive  Insufficient   \n",
       "\n",
       "                    dept_responsible                  team_responsible  \\\n",
       "0              Inspectional Services                          Building   \n",
       "1            Mayor's 24 Hour Hotline       Employee & General Comments   \n",
       "2            Public Works Department                        Sanitation   \n",
       "3  Transportation - Traffic Division  Enforcement & Abandoned Vehicles   \n",
       "4              Inspectional Services                           Housing   \n",
       "\n",
       "                              complain_type  submittedphoto  closedphoto  \\\n",
       "0                     Illegal Rooming House               0            0   \n",
       "1  General Comments For a Program or Policy               0            0   \n",
       "2                              Space Savers               0            0   \n",
       "3                       Parking Enforcement               1            0   \n",
       "4            Heat - Excessive  Insufficient               0            0   \n",
       "\n",
       "                                            location  \\\n",
       "0               27 Lithgow St  Dorchester  MA  02124   \n",
       "1                                   No info provided   \n",
       "2              492 Harvard St  Dorchester  MA  02124   \n",
       "3  INTERSECTION of Seaport Blvd & Sleeper St  Bos...   \n",
       "4              15 Crawford St  Dorchester  MA  02121   \n",
       "\n",
       "                             neighborhood  ...   open_date open_time  \\\n",
       "0                              Dorchester  ...  2022-01-13  12:59:00   \n",
       "1                        No info provided  ...  2022-02-02  11:42:49   \n",
       "2                        Greater Mattapan  ...  2022-01-28  19:36:00   \n",
       "3  South Boston / South Boston Waterfront  ...  2022-01-01  00:36:24   \n",
       "4                                 Roxbury  ...  2022-01-11  09:47:00   \n",
       "\n",
       "   target_date  target_time closure_date closure_time source_City Worker App  \\\n",
       "0   2022-01-20     12:59:39          NaT          NaT                      0   \n",
       "1   2022-02-16     11:42:49   2022-02-02     11:45:47                      0   \n",
       "2          NaT          NaT          NaT          NaT                      0   \n",
       "3   2022-01-04     08:30:00   2022-01-03     00:13:17                      0   \n",
       "4   2022-02-10     09:47:22          NaT          NaT                      0   \n",
       "\n",
       "  source_Constituent Call source_Employee Generated source_Self Service  \n",
       "0                       1                         0                   0  \n",
       "1                       1                         0                   0  \n",
       "2                       1                         0                   0  \n",
       "3                       0                         0                   0  \n",
       "4                       1                         0                   0  \n",
       "\n",
       "[5 rows x 24 columns]"
      ]
     },
     "execution_count": 20,
     "metadata": {},
     "output_type": "execute_result"
    }
   ],
   "source": [
    "data1.head()"
   ]
  },
  {
   "cell_type": "markdown",
   "id": "02934bbd",
   "metadata": {},
   "source": [
    "# Problem 1\n",
    "\n",
    "### Creating a subset of data where photos were submitted and running a model on this data to predict the ontime closure of the case."
   ]
  },
  {
   "cell_type": "code",
   "execution_count": 21,
   "id": "127f2f7c",
   "metadata": {},
   "outputs": [
    {
     "data": {
      "text/plain": [
       "1    65684\n",
       "0     8295\n",
       "Name: case_status, dtype: int64"
      ]
     },
     "execution_count": 21,
     "metadata": {},
     "output_type": "execute_result"
    }
   ],
   "source": [
    "data_photo = data1[(data1[\"submittedphoto\"] == 1)]\n",
    "data_photo.reset_index(drop=True, inplace=True)\n",
    "freq_per_value = data_photo['case_status'].value_counts()\n",
    "\n",
    "freq_per_value"
   ]
  },
  {
   "cell_type": "code",
   "execution_count": 22,
   "id": "e39ca1b6",
   "metadata": {},
   "outputs": [
    {
     "data": {
      "text/html": [
       "<div>\n",
       "<style scoped>\n",
       "    .dataframe tbody tr th:only-of-type {\n",
       "        vertical-align: middle;\n",
       "    }\n",
       "\n",
       "    .dataframe tbody tr th {\n",
       "        vertical-align: top;\n",
       "    }\n",
       "\n",
       "    .dataframe thead th {\n",
       "        text-align: right;\n",
       "    }\n",
       "</style>\n",
       "<table border=\"1\" class=\"dataframe\">\n",
       "  <thead>\n",
       "    <tr style=\"text-align: right;\">\n",
       "      <th></th>\n",
       "      <th>ontime</th>\n",
       "      <th>case_status</th>\n",
       "      <th>case_title</th>\n",
       "      <th>dept_responsible</th>\n",
       "      <th>team_responsible</th>\n",
       "      <th>complain_type</th>\n",
       "      <th>submittedphoto</th>\n",
       "      <th>closedphoto</th>\n",
       "      <th>location</th>\n",
       "      <th>neighborhood</th>\n",
       "      <th>...</th>\n",
       "      <th>open_date</th>\n",
       "      <th>open_time</th>\n",
       "      <th>target_date</th>\n",
       "      <th>target_time</th>\n",
       "      <th>closure_date</th>\n",
       "      <th>closure_time</th>\n",
       "      <th>source_City Worker App</th>\n",
       "      <th>source_Constituent Call</th>\n",
       "      <th>source_Employee Generated</th>\n",
       "      <th>source_Self Service</th>\n",
       "    </tr>\n",
       "  </thead>\n",
       "  <tbody>\n",
       "    <tr>\n",
       "      <th>0</th>\n",
       "      <td>1</td>\n",
       "      <td>1</td>\n",
       "      <td>Parking Enforcement</td>\n",
       "      <td>Transportation - Traffic Division</td>\n",
       "      <td>Enforcement &amp; Abandoned Vehicles</td>\n",
       "      <td>Parking Enforcement</td>\n",
       "      <td>1</td>\n",
       "      <td>0</td>\n",
       "      <td>INTERSECTION of Seaport Blvd &amp; Sleeper St  Bos...</td>\n",
       "      <td>South Boston / South Boston Waterfront</td>\n",
       "      <td>...</td>\n",
       "      <td>2022-01-01</td>\n",
       "      <td>00:36:24</td>\n",
       "      <td>2022-01-04</td>\n",
       "      <td>08:30:00</td>\n",
       "      <td>2022-01-03</td>\n",
       "      <td>00:13:17</td>\n",
       "      <td>0</td>\n",
       "      <td>0</td>\n",
       "      <td>0</td>\n",
       "      <td>0</td>\n",
       "    </tr>\n",
       "    <tr>\n",
       "      <th>1</th>\n",
       "      <td>1</td>\n",
       "      <td>1</td>\n",
       "      <td>Parking Enforcement</td>\n",
       "      <td>Transportation - Traffic Division</td>\n",
       "      <td>Enforcement &amp; Abandoned Vehicles</td>\n",
       "      <td>Parking Enforcement</td>\n",
       "      <td>1</td>\n",
       "      <td>0</td>\n",
       "      <td>16 Frost Ave  Dorchester  MA  02122</td>\n",
       "      <td>Dorchester</td>\n",
       "      <td>...</td>\n",
       "      <td>2022-01-01</td>\n",
       "      <td>01:13:52</td>\n",
       "      <td>2022-01-04</td>\n",
       "      <td>08:30:00</td>\n",
       "      <td>2022-01-03</td>\n",
       "      <td>00:13:02</td>\n",
       "      <td>0</td>\n",
       "      <td>0</td>\n",
       "      <td>0</td>\n",
       "      <td>0</td>\n",
       "    </tr>\n",
       "    <tr>\n",
       "      <th>2</th>\n",
       "      <td>1</td>\n",
       "      <td>1</td>\n",
       "      <td>Requests for Street Cleaning</td>\n",
       "      <td>Public Works Department</td>\n",
       "      <td>Street Cleaning</td>\n",
       "      <td>Requests for Street Cleaning</td>\n",
       "      <td>1</td>\n",
       "      <td>1</td>\n",
       "      <td>INTERSECTION of Warren Ave &amp; Dartmouth St  Bos...</td>\n",
       "      <td>South End</td>\n",
       "      <td>...</td>\n",
       "      <td>2022-01-01</td>\n",
       "      <td>13:51:00</td>\n",
       "      <td>2022-01-04</td>\n",
       "      <td>08:30:00</td>\n",
       "      <td>2022-01-03</td>\n",
       "      <td>05:59:20</td>\n",
       "      <td>0</td>\n",
       "      <td>0</td>\n",
       "      <td>0</td>\n",
       "      <td>0</td>\n",
       "    </tr>\n",
       "    <tr>\n",
       "      <th>3</th>\n",
       "      <td>0</td>\n",
       "      <td>0</td>\n",
       "      <td>Sidewalk Repair (Make Safe)</td>\n",
       "      <td>Public Works Department</td>\n",
       "      <td>Highway Maintenance</td>\n",
       "      <td>Sidewalk Repair (Make Safe)</td>\n",
       "      <td>1</td>\n",
       "      <td>0</td>\n",
       "      <td>108-110 Mount Vernon St  Boston  MA  02108</td>\n",
       "      <td>Beacon Hill</td>\n",
       "      <td>...</td>\n",
       "      <td>2022-01-01</td>\n",
       "      <td>14:18:00</td>\n",
       "      <td>2022-01-04</td>\n",
       "      <td>08:30:00</td>\n",
       "      <td>NaT</td>\n",
       "      <td>NaT</td>\n",
       "      <td>0</td>\n",
       "      <td>0</td>\n",
       "      <td>0</td>\n",
       "      <td>0</td>\n",
       "    </tr>\n",
       "    <tr>\n",
       "      <th>4</th>\n",
       "      <td>1</td>\n",
       "      <td>1</td>\n",
       "      <td>Pick up Dead Animal</td>\n",
       "      <td>Public Works Department</td>\n",
       "      <td>Street Cleaning</td>\n",
       "      <td>Pick up Dead Animal</td>\n",
       "      <td>1</td>\n",
       "      <td>0</td>\n",
       "      <td>INTERSECTION of Bentham Rd &amp; Mount Ida Rd  Dor...</td>\n",
       "      <td>Dorchester</td>\n",
       "      <td>...</td>\n",
       "      <td>2022-01-01</td>\n",
       "      <td>15:32:20</td>\n",
       "      <td>2022-01-04</td>\n",
       "      <td>08:30:00</td>\n",
       "      <td>2022-01-01</td>\n",
       "      <td>19:08:01</td>\n",
       "      <td>0</td>\n",
       "      <td>0</td>\n",
       "      <td>0</td>\n",
       "      <td>0</td>\n",
       "    </tr>\n",
       "    <tr>\n",
       "      <th>...</th>\n",
       "      <td>...</td>\n",
       "      <td>...</td>\n",
       "      <td>...</td>\n",
       "      <td>...</td>\n",
       "      <td>...</td>\n",
       "      <td>...</td>\n",
       "      <td>...</td>\n",
       "      <td>...</td>\n",
       "      <td>...</td>\n",
       "      <td>...</td>\n",
       "      <td>...</td>\n",
       "      <td>...</td>\n",
       "      <td>...</td>\n",
       "      <td>...</td>\n",
       "      <td>...</td>\n",
       "      <td>...</td>\n",
       "      <td>...</td>\n",
       "      <td>...</td>\n",
       "      <td>...</td>\n",
       "      <td>...</td>\n",
       "      <td>...</td>\n",
       "    </tr>\n",
       "    <tr>\n",
       "      <th>73974</th>\n",
       "      <td>1</td>\n",
       "      <td>1</td>\n",
       "      <td>Parking Enforcement</td>\n",
       "      <td>Transportation - Traffic Division</td>\n",
       "      <td>Enforcement &amp; Abandoned Vehicles</td>\n",
       "      <td>Parking Enforcement</td>\n",
       "      <td>1</td>\n",
       "      <td>0</td>\n",
       "      <td>6 Trenton St  East Boston  MA  02128</td>\n",
       "      <td>East Boston</td>\n",
       "      <td>...</td>\n",
       "      <td>2022-01-05</td>\n",
       "      <td>07:27:12</td>\n",
       "      <td>2022-01-06</td>\n",
       "      <td>08:30:00</td>\n",
       "      <td>2022-01-05</td>\n",
       "      <td>10:14:48</td>\n",
       "      <td>0</td>\n",
       "      <td>0</td>\n",
       "      <td>0</td>\n",
       "      <td>0</td>\n",
       "    </tr>\n",
       "    <tr>\n",
       "      <th>73975</th>\n",
       "      <td>1</td>\n",
       "      <td>1</td>\n",
       "      <td>Ground Maintenance: Sweeney Playground - BPRD</td>\n",
       "      <td>Parks &amp; Recreation Department</td>\n",
       "      <td>Park Maintenance &amp; Safety</td>\n",
       "      <td>Ground Maintenance</td>\n",
       "      <td>1</td>\n",
       "      <td>0</td>\n",
       "      <td>180 W Fifth St  South Boston  MA  02127</td>\n",
       "      <td>South Boston</td>\n",
       "      <td>...</td>\n",
       "      <td>2022-01-05</td>\n",
       "      <td>07:45:00</td>\n",
       "      <td>2022-01-12</td>\n",
       "      <td>08:30:00</td>\n",
       "      <td>2022-01-06</td>\n",
       "      <td>07:42:04</td>\n",
       "      <td>0</td>\n",
       "      <td>0</td>\n",
       "      <td>0</td>\n",
       "      <td>0</td>\n",
       "    </tr>\n",
       "    <tr>\n",
       "      <th>73976</th>\n",
       "      <td>1</td>\n",
       "      <td>1</td>\n",
       "      <td>Improper Storage of Trash (Barrels)</td>\n",
       "      <td>Public Works Department</td>\n",
       "      <td>Code Enforcement</td>\n",
       "      <td>Improper Storage of Trash (Barrels)</td>\n",
       "      <td>1</td>\n",
       "      <td>1</td>\n",
       "      <td>14 S Russell St  Boston  MA  02114</td>\n",
       "      <td>Beacon Hill</td>\n",
       "      <td>...</td>\n",
       "      <td>2022-01-01</td>\n",
       "      <td>06:46:29</td>\n",
       "      <td>2022-01-05</td>\n",
       "      <td>08:30:00</td>\n",
       "      <td>2022-01-01</td>\n",
       "      <td>15:10:16</td>\n",
       "      <td>0</td>\n",
       "      <td>0</td>\n",
       "      <td>0</td>\n",
       "      <td>0</td>\n",
       "    </tr>\n",
       "    <tr>\n",
       "      <th>73977</th>\n",
       "      <td>1</td>\n",
       "      <td>1</td>\n",
       "      <td>Pick up Dead Animal</td>\n",
       "      <td>Public Works Department</td>\n",
       "      <td>Street Cleaning</td>\n",
       "      <td>Pick up Dead Animal</td>\n",
       "      <td>1</td>\n",
       "      <td>1</td>\n",
       "      <td>22 Romsey St  Dorchester  MA  02125</td>\n",
       "      <td>Dorchester</td>\n",
       "      <td>...</td>\n",
       "      <td>2022-01-01</td>\n",
       "      <td>08:40:31</td>\n",
       "      <td>2022-01-04</td>\n",
       "      <td>08:30:00</td>\n",
       "      <td>2022-01-01</td>\n",
       "      <td>09:06:21</td>\n",
       "      <td>0</td>\n",
       "      <td>0</td>\n",
       "      <td>0</td>\n",
       "      <td>0</td>\n",
       "    </tr>\n",
       "    <tr>\n",
       "      <th>73978</th>\n",
       "      <td>1</td>\n",
       "      <td>1</td>\n",
       "      <td>Litter / Ground Maintenance - Franklin Field B...</td>\n",
       "      <td>Parks &amp; Recreation Department</td>\n",
       "      <td>Park Maintenance &amp; Safety</td>\n",
       "      <td>Ground Maintenance</td>\n",
       "      <td>1</td>\n",
       "      <td>0</td>\n",
       "      <td>90 Westview St  Dorchester  MA  02124</td>\n",
       "      <td>Dorchester</td>\n",
       "      <td>...</td>\n",
       "      <td>2022-01-01</td>\n",
       "      <td>09:45:26</td>\n",
       "      <td>2022-01-10</td>\n",
       "      <td>08:30:00</td>\n",
       "      <td>2022-01-02</td>\n",
       "      <td>14:22:07</td>\n",
       "      <td>0</td>\n",
       "      <td>0</td>\n",
       "      <td>0</td>\n",
       "      <td>0</td>\n",
       "    </tr>\n",
       "  </tbody>\n",
       "</table>\n",
       "<p>73979 rows × 24 columns</p>\n",
       "</div>"
      ],
      "text/plain": [
       "       ontime  case_status                                         case_title  \\\n",
       "0           1            1                                Parking Enforcement   \n",
       "1           1            1                                Parking Enforcement   \n",
       "2           1            1                       Requests for Street Cleaning   \n",
       "3           0            0                        Sidewalk Repair (Make Safe)   \n",
       "4           1            1                                Pick up Dead Animal   \n",
       "...       ...          ...                                                ...   \n",
       "73974       1            1                                Parking Enforcement   \n",
       "73975       1            1      Ground Maintenance: Sweeney Playground - BPRD   \n",
       "73976       1            1                Improper Storage of Trash (Barrels)   \n",
       "73977       1            1                                Pick up Dead Animal   \n",
       "73978       1            1  Litter / Ground Maintenance - Franklin Field B...   \n",
       "\n",
       "                        dept_responsible                  team_responsible  \\\n",
       "0      Transportation - Traffic Division  Enforcement & Abandoned Vehicles   \n",
       "1      Transportation - Traffic Division  Enforcement & Abandoned Vehicles   \n",
       "2                Public Works Department                   Street Cleaning   \n",
       "3                Public Works Department               Highway Maintenance   \n",
       "4                Public Works Department                   Street Cleaning   \n",
       "...                                  ...                               ...   \n",
       "73974  Transportation - Traffic Division  Enforcement & Abandoned Vehicles   \n",
       "73975      Parks & Recreation Department         Park Maintenance & Safety   \n",
       "73976            Public Works Department                  Code Enforcement   \n",
       "73977            Public Works Department                   Street Cleaning   \n",
       "73978      Parks & Recreation Department         Park Maintenance & Safety   \n",
       "\n",
       "                             complain_type  submittedphoto  closedphoto  \\\n",
       "0                      Parking Enforcement               1            0   \n",
       "1                      Parking Enforcement               1            0   \n",
       "2             Requests for Street Cleaning               1            1   \n",
       "3              Sidewalk Repair (Make Safe)               1            0   \n",
       "4                      Pick up Dead Animal               1            0   \n",
       "...                                    ...             ...          ...   \n",
       "73974                  Parking Enforcement               1            0   \n",
       "73975                   Ground Maintenance               1            0   \n",
       "73976  Improper Storage of Trash (Barrels)               1            1   \n",
       "73977                  Pick up Dead Animal               1            1   \n",
       "73978                   Ground Maintenance               1            0   \n",
       "\n",
       "                                                location  \\\n",
       "0      INTERSECTION of Seaport Blvd & Sleeper St  Bos...   \n",
       "1                    16 Frost Ave  Dorchester  MA  02122   \n",
       "2      INTERSECTION of Warren Ave & Dartmouth St  Bos...   \n",
       "3             108-110 Mount Vernon St  Boston  MA  02108   \n",
       "4      INTERSECTION of Bentham Rd & Mount Ida Rd  Dor...   \n",
       "...                                                  ...   \n",
       "73974               6 Trenton St  East Boston  MA  02128   \n",
       "73975            180 W Fifth St  South Boston  MA  02127   \n",
       "73976                 14 S Russell St  Boston  MA  02114   \n",
       "73977                22 Romsey St  Dorchester  MA  02125   \n",
       "73978              90 Westview St  Dorchester  MA  02124   \n",
       "\n",
       "                                 neighborhood  ...   open_date open_time  \\\n",
       "0      South Boston / South Boston Waterfront  ...  2022-01-01  00:36:24   \n",
       "1                                  Dorchester  ...  2022-01-01  01:13:52   \n",
       "2                                   South End  ...  2022-01-01  13:51:00   \n",
       "3                                 Beacon Hill  ...  2022-01-01  14:18:00   \n",
       "4                                  Dorchester  ...  2022-01-01  15:32:20   \n",
       "...                                       ...  ...         ...       ...   \n",
       "73974                             East Boston  ...  2022-01-05  07:27:12   \n",
       "73975                            South Boston  ...  2022-01-05  07:45:00   \n",
       "73976                             Beacon Hill  ...  2022-01-01  06:46:29   \n",
       "73977                              Dorchester  ...  2022-01-01  08:40:31   \n",
       "73978                              Dorchester  ...  2022-01-01  09:45:26   \n",
       "\n",
       "       target_date  target_time closure_date closure_time  \\\n",
       "0       2022-01-04     08:30:00   2022-01-03     00:13:17   \n",
       "1       2022-01-04     08:30:00   2022-01-03     00:13:02   \n",
       "2       2022-01-04     08:30:00   2022-01-03     05:59:20   \n",
       "3       2022-01-04     08:30:00          NaT          NaT   \n",
       "4       2022-01-04     08:30:00   2022-01-01     19:08:01   \n",
       "...            ...          ...          ...          ...   \n",
       "73974   2022-01-06     08:30:00   2022-01-05     10:14:48   \n",
       "73975   2022-01-12     08:30:00   2022-01-06     07:42:04   \n",
       "73976   2022-01-05     08:30:00   2022-01-01     15:10:16   \n",
       "73977   2022-01-04     08:30:00   2022-01-01     09:06:21   \n",
       "73978   2022-01-10     08:30:00   2022-01-02     14:22:07   \n",
       "\n",
       "      source_City Worker App source_Constituent Call  \\\n",
       "0                          0                       0   \n",
       "1                          0                       0   \n",
       "2                          0                       0   \n",
       "3                          0                       0   \n",
       "4                          0                       0   \n",
       "...                      ...                     ...   \n",
       "73974                      0                       0   \n",
       "73975                      0                       0   \n",
       "73976                      0                       0   \n",
       "73977                      0                       0   \n",
       "73978                      0                       0   \n",
       "\n",
       "      source_Employee Generated source_Self Service  \n",
       "0                             0                   0  \n",
       "1                             0                   0  \n",
       "2                             0                   0  \n",
       "3                             0                   0  \n",
       "4                             0                   0  \n",
       "...                         ...                 ...  \n",
       "73974                         0                   0  \n",
       "73975                         0                   0  \n",
       "73976                         0                   0  \n",
       "73977                         0                   0  \n",
       "73978                         0                   0  \n",
       "\n",
       "[73979 rows x 24 columns]"
      ]
     },
     "execution_count": 22,
     "metadata": {},
     "output_type": "execute_result"
    }
   ],
   "source": [
    "data_photo"
   ]
  },
  {
   "cell_type": "markdown",
   "id": "47e02935",
   "metadata": {},
   "source": [
    "### Importing libraries for Logistic regression, splitting of data and calculation of performance"
   ]
  },
  {
   "cell_type": "code",
   "execution_count": 23,
   "id": "74b18a06",
   "metadata": {},
   "outputs": [],
   "source": [
    "from sklearn.linear_model import LogisticRegression\n",
    "import pandas as pd\n",
    "from sklearn.model_selection import train_test_split\n",
    "from sklearn.metrics import (accuracy_score, precision_score,recall_score,f1_score\n",
    "                             ,confusion_matrix)"
   ]
  },
  {
   "cell_type": "markdown",
   "id": "d8e5b71e",
   "metadata": {},
   "source": [
    "### Selecting relevant columns for dependent and independent variable in the subset with submitted photo"
   ]
  },
  {
   "cell_type": "code",
   "execution_count": 24,
   "id": "20e743bb",
   "metadata": {},
   "outputs": [],
   "source": [
    "x = data_photo[[\n",
    "        'latitude', 'longitude', 'source_City Worker App',\n",
    "       'source_Constituent Call', 'source_Employee Generated',\n",
    "       'source_Self Service']]\n",
    "#The 'submittedphoto' column has not been considered as the df - 'data_photo' \n",
    "#used is built of records where photos were submitted.\n",
    "\n",
    "\n",
    "y = data_photo['ontime']"
   ]
  },
  {
   "cell_type": "code",
   "execution_count": 25,
   "id": "72c8f469",
   "metadata": {},
   "outputs": [
    {
     "data": {
      "text/plain": [
       "1    58719\n",
       "0    15260\n",
       "Name: ontime, dtype: int64"
      ]
     },
     "execution_count": 25,
     "metadata": {},
     "output_type": "execute_result"
    }
   ],
   "source": [
    "y.value_counts()"
   ]
  },
  {
   "cell_type": "markdown",
   "id": "33ceb259",
   "metadata": {},
   "source": [
    "# Problem 1 : Model 1\n"
   ]
  },
  {
   "cell_type": "code",
   "execution_count": 26,
   "id": "f0243bc1",
   "metadata": {},
   "outputs": [
    {
     "data": {
      "text/plain": [
       "0.8825898701037157"
      ]
     },
     "execution_count": 26,
     "metadata": {},
     "output_type": "execute_result"
    }
   ],
   "source": [
    "from sklearn.model_selection import train_test_split\n",
    "x_train, x_test, y_train, y_test = train_test_split(x,y, test_size = 0.3, random_state = 1)\n",
    "\n",
    "#Logistic Regression Model\n",
    "\n",
    "from sklearn.linear_model import LogisticRegression  #Import\n",
    "logmodel = LogisticRegression(solver = 'liblinear')  #Initialize\n",
    "logmodel.fit(x_train, y_train) # Fit\n",
    "\n",
    "logmodel.intercept_   #Values of b0\n",
    "logmodel.coef_      #values of b1\n",
    "\n",
    "probabilities = logmodel.predict_proba(x_test)\n",
    "\n",
    "y_pred = logmodel.predict(x_test)\n",
    "\n",
    "\n",
    "#F1 score\n",
    "from sklearn.metrics import f1_score\n",
    "f1_score(y_test, y_pred)"
   ]
  },
  {
   "cell_type": "code",
   "execution_count": 27,
   "id": "edbaf312",
   "metadata": {},
   "outputs": [
    {
     "data": {
      "text/plain": [
       "0.7898531134540867"
      ]
     },
     "execution_count": 27,
     "metadata": {},
     "output_type": "execute_result"
    }
   ],
   "source": [
    "accuracy_score(y_test,y_pred)"
   ]
  },
  {
   "cell_type": "code",
   "execution_count": 28,
   "id": "dc9808a2",
   "metadata": {},
   "outputs": [
    {
     "data": {
      "text/plain": [
       "0.7898531134540867"
      ]
     },
     "execution_count": 28,
     "metadata": {},
     "output_type": "execute_result"
    }
   ],
   "source": [
    "precision_score(y_test,y_pred)"
   ]
  },
  {
   "cell_type": "code",
   "execution_count": 29,
   "id": "5d227e5a",
   "metadata": {},
   "outputs": [
    {
     "data": {
      "text/plain": [
       "1.0"
      ]
     },
     "execution_count": 29,
     "metadata": {},
     "output_type": "execute_result"
    }
   ],
   "source": [
    "recall_score(y_test,y_pred)"
   ]
  },
  {
   "cell_type": "code",
   "execution_count": 30,
   "id": "fdf183ed",
   "metadata": {},
   "outputs": [
    {
     "data": {
      "text/html": [
       "<div>\n",
       "<style scoped>\n",
       "    .dataframe tbody tr th:only-of-type {\n",
       "        vertical-align: middle;\n",
       "    }\n",
       "\n",
       "    .dataframe tbody tr th {\n",
       "        vertical-align: top;\n",
       "    }\n",
       "\n",
       "    .dataframe thead th {\n",
       "        text-align: right;\n",
       "    }\n",
       "</style>\n",
       "<table border=\"1\" class=\"dataframe\">\n",
       "  <thead>\n",
       "    <tr style=\"text-align: right;\">\n",
       "      <th></th>\n",
       "      <th>Pred:0</th>\n",
       "      <th>Pred:1</th>\n",
       "    </tr>\n",
       "  </thead>\n",
       "  <tbody>\n",
       "    <tr>\n",
       "      <th>Actual:0</th>\n",
       "      <td>0</td>\n",
       "      <td>4664</td>\n",
       "    </tr>\n",
       "    <tr>\n",
       "      <th>Actual:1</th>\n",
       "      <td>0</td>\n",
       "      <td>17530</td>\n",
       "    </tr>\n",
       "  </tbody>\n",
       "</table>\n",
       "</div>"
      ],
      "text/plain": [
       "          Pred:0  Pred:1\n",
       "Actual:0       0    4664\n",
       "Actual:1       0   17530"
      ]
     },
     "execution_count": 30,
     "metadata": {},
     "output_type": "execute_result"
    }
   ],
   "source": [
    "confusion_mat = pd.DataFrame(confusion_matrix(y_test,y_pred), \n",
    "                             index = ['Actual:0', 'Actual:1'],\n",
    "                             columns = ['Pred:0', 'Pred:1'])\n",
    "\n",
    "confusion_mat"
   ]
  },
  {
   "cell_type": "code",
   "execution_count": null,
   "id": "5a62af6b",
   "metadata": {},
   "outputs": [],
   "source": [
    "### Installing package to import library that uses balanced data"
   ]
  },
  {
   "cell_type": "code",
   "execution_count": null,
   "id": "05d4ff79",
   "metadata": {},
   "outputs": [],
   "source": [
    "conda install -c glemaitre imbalanced-learn"
   ]
  },
  {
   "cell_type": "code",
   "execution_count": 31,
   "id": "21b45801",
   "metadata": {},
   "outputs": [],
   "source": [
    "from imblearn.over_sampling import RandomOverSampler\n",
    "oversampler = RandomOverSampler()\n",
    "X_resampled, y_resampled = oversampler.fit_resample(x, y)"
   ]
  },
  {
   "cell_type": "code",
   "execution_count": 32,
   "id": "dc002e0b",
   "metadata": {},
   "outputs": [
    {
     "data": {
      "text/plain": [
       "1    58719\n",
       "0    58719\n",
       "Name: ontime, dtype: int64"
      ]
     },
     "execution_count": 32,
     "metadata": {},
     "output_type": "execute_result"
    }
   ],
   "source": [
    "y_resampled.value_counts()"
   ]
  },
  {
   "cell_type": "markdown",
   "id": "3b7cdf4e",
   "metadata": {},
   "source": [
    "# Problem 1: Model 2 "
   ]
  },
  {
   "cell_type": "markdown",
   "id": "68cb7446",
   "metadata": {},
   "source": [
    "### Running logistic regression on balanced data"
   ]
  },
  {
   "cell_type": "code",
   "execution_count": 70,
   "id": "987c5e64",
   "metadata": {},
   "outputs": [
    {
     "data": {
      "text/plain": [
       "0.5473619411598738"
      ]
     },
     "execution_count": 70,
     "metadata": {},
     "output_type": "execute_result"
    }
   ],
   "source": [
    "##Splitting the data in Train and test\n",
    "from sklearn.model_selection import train_test_split\n",
    "x_train, x_test, y_train, y_test = train_test_split(X_resampled,y_resampled, test_size = 0.3, random_state = 1)\n",
    "\n",
    "#Logistic Regression Model\n",
    "\n",
    "from sklearn.linear_model import LogisticRegression  #Import\n",
    "logmodel = LogisticRegression(solver = 'liblinear')  #Initialize\n",
    "logmodel.fit(x_train, y_train) # Fit\n",
    "\n",
    "logmodel.intercept_   #Values of b0\n",
    "logmodel.coef_      #values of b1\n",
    "\n",
    "probabilities = logmodel.predict_proba(x_test)\n",
    "\n",
    "y_pred = logmodel.predict(x_test)\n",
    "\n",
    "\n",
    "#F1 score\n",
    "from sklearn.metrics import f1_score\n",
    "f1_score(y_test, y_pred)"
   ]
  },
  {
   "cell_type": "code",
   "execution_count": 71,
   "id": "e292bf82",
   "metadata": {},
   "outputs": [
    {
     "data": {
      "text/plain": [
       "0.49912011807447776"
      ]
     },
     "execution_count": 71,
     "metadata": {},
     "output_type": "execute_result"
    }
   ],
   "source": [
    "accuracy_score(y_test,y_pred)"
   ]
  },
  {
   "cell_type": "code",
   "execution_count": 35,
   "id": "338bbe92",
   "metadata": {},
   "outputs": [
    {
     "data": {
      "text/plain": [
       "0.5024723334118201"
      ]
     },
     "execution_count": 35,
     "metadata": {},
     "output_type": "execute_result"
    }
   ],
   "source": [
    "precision_score(y_test,y_pred)"
   ]
  },
  {
   "cell_type": "code",
   "execution_count": 36,
   "id": "fbe47b22",
   "metadata": {},
   "outputs": [
    {
     "data": {
      "text/plain": [
       "0.6010590356016223"
      ]
     },
     "execution_count": 36,
     "metadata": {},
     "output_type": "execute_result"
    }
   ],
   "source": [
    "recall_score(y_test,y_pred)\n"
   ]
  },
  {
   "cell_type": "code",
   "execution_count": 37,
   "id": "b3b1d69e",
   "metadata": {},
   "outputs": [
    {
     "data": {
      "text/html": [
       "<div>\n",
       "<style scoped>\n",
       "    .dataframe tbody tr th:only-of-type {\n",
       "        vertical-align: middle;\n",
       "    }\n",
       "\n",
       "    .dataframe tbody tr th {\n",
       "        vertical-align: top;\n",
       "    }\n",
       "\n",
       "    .dataframe thead th {\n",
       "        text-align: right;\n",
       "    }\n",
       "</style>\n",
       "<table border=\"1\" class=\"dataframe\">\n",
       "  <thead>\n",
       "    <tr style=\"text-align: right;\">\n",
       "      <th></th>\n",
       "      <th>Pred:0</th>\n",
       "      <th>Pred:1</th>\n",
       "    </tr>\n",
       "  </thead>\n",
       "  <tbody>\n",
       "    <tr>\n",
       "      <th>Actual:0</th>\n",
       "      <td>6915</td>\n",
       "      <td>10565</td>\n",
       "    </tr>\n",
       "    <tr>\n",
       "      <th>Actual:1</th>\n",
       "      <td>7082</td>\n",
       "      <td>10670</td>\n",
       "    </tr>\n",
       "  </tbody>\n",
       "</table>\n",
       "</div>"
      ],
      "text/plain": [
       "          Pred:0  Pred:1\n",
       "Actual:0    6915   10565\n",
       "Actual:1    7082   10670"
      ]
     },
     "execution_count": 37,
     "metadata": {},
     "output_type": "execute_result"
    }
   ],
   "source": [
    "confusion_mat = pd.DataFrame(confusion_matrix(y_test,y_pred), \n",
    "                             index = ['Actual:0', 'Actual:1'],\n",
    "                             columns = ['Pred:0', 'Pred:1'])\n",
    "\n",
    "confusion_mat"
   ]
  },
  {
   "cell_type": "markdown",
   "id": "9cb2c840",
   "metadata": {},
   "source": [
    "# Problem 1: Model 3"
   ]
  },
  {
   "cell_type": "markdown",
   "id": "a40687d4",
   "metadata": {},
   "source": [
    "### Running Random Forest model for the classification"
   ]
  },
  {
   "cell_type": "code",
   "execution_count": 38,
   "id": "9c8992e7",
   "metadata": {},
   "outputs": [],
   "source": [
    "from sklearn.ensemble import RandomForestClassifier\n",
    "from sklearn.model_selection import train_test_split\n",
    "\n",
    "# X and y represent your feature matrix and target variable, respectively\n",
    "# Split the data into training and testing sets\n",
    "x_train, x_test, y_train, y_test = train_test_split(x,y, test_size = 0.3, random_state = 1)\n",
    "\n",
    "# Define the random forest classifier\n",
    "rfc = RandomForestClassifier(n_estimators=100, random_state=1)\n",
    "\n",
    "# Fit the classifier on the training data\n",
    "rfc.fit(x_train, y_train)\n",
    "\n",
    "# Predict the target variable for the testing data\n",
    "y_pred = rfc.predict(x_test)\n"
   ]
  },
  {
   "cell_type": "code",
   "execution_count": 39,
   "id": "9f941284",
   "metadata": {},
   "outputs": [
    {
     "data": {
      "text/plain": [
       "0.7821032711543661"
      ]
     },
     "execution_count": 39,
     "metadata": {},
     "output_type": "execute_result"
    }
   ],
   "source": [
    "accuracy_score(y_test,y_pred)"
   ]
  },
  {
   "cell_type": "code",
   "execution_count": 40,
   "id": "4ac3ca0d",
   "metadata": {},
   "outputs": [
    {
     "data": {
      "text/plain": [
       "0.8112800392349191"
      ]
     },
     "execution_count": 40,
     "metadata": {},
     "output_type": "execute_result"
    }
   ],
   "source": [
    "precision_score(y_test,y_pred)"
   ]
  },
  {
   "cell_type": "code",
   "execution_count": 41,
   "id": "14291407",
   "metadata": {},
   "outputs": [
    {
     "data": {
      "text/plain": [
       "0.9436394751853965"
      ]
     },
     "execution_count": 41,
     "metadata": {},
     "output_type": "execute_result"
    }
   ],
   "source": [
    "recall_score(y_test,y_pred)"
   ]
  },
  {
   "cell_type": "code",
   "execution_count": 42,
   "id": "4c32a8f2",
   "metadata": {},
   "outputs": [
    {
     "data": {
      "text/plain": [
       "0.8724683544303797"
      ]
     },
     "execution_count": 42,
     "metadata": {},
     "output_type": "execute_result"
    }
   ],
   "source": [
    "f1_score(y_test, y_pred)"
   ]
  },
  {
   "cell_type": "code",
   "execution_count": 43,
   "id": "2c6c462c",
   "metadata": {},
   "outputs": [
    {
     "data": {
      "text/html": [
       "<div>\n",
       "<style scoped>\n",
       "    .dataframe tbody tr th:only-of-type {\n",
       "        vertical-align: middle;\n",
       "    }\n",
       "\n",
       "    .dataframe tbody tr th {\n",
       "        vertical-align: top;\n",
       "    }\n",
       "\n",
       "    .dataframe thead th {\n",
       "        text-align: right;\n",
       "    }\n",
       "</style>\n",
       "<table border=\"1\" class=\"dataframe\">\n",
       "  <thead>\n",
       "    <tr style=\"text-align: right;\">\n",
       "      <th></th>\n",
       "      <th>Pred:0</th>\n",
       "      <th>Pred:1</th>\n",
       "    </tr>\n",
       "  </thead>\n",
       "  <tbody>\n",
       "    <tr>\n",
       "      <th>Actual:0</th>\n",
       "      <td>816</td>\n",
       "      <td>3848</td>\n",
       "    </tr>\n",
       "    <tr>\n",
       "      <th>Actual:1</th>\n",
       "      <td>988</td>\n",
       "      <td>16542</td>\n",
       "    </tr>\n",
       "  </tbody>\n",
       "</table>\n",
       "</div>"
      ],
      "text/plain": [
       "          Pred:0  Pred:1\n",
       "Actual:0     816    3848\n",
       "Actual:1     988   16542"
      ]
     },
     "execution_count": 43,
     "metadata": {},
     "output_type": "execute_result"
    }
   ],
   "source": [
    "confusion_mat = pd.DataFrame(confusion_matrix(y_test,y_pred), \n",
    "                             index = ['Actual:0', 'Actual:1'],\n",
    "                             columns = ['Pred:0', 'Pred:1'])\n",
    "\n",
    "confusion_mat"
   ]
  },
  {
   "cell_type": "markdown",
   "id": "f41b2e53",
   "metadata": {},
   "source": [
    "# Problem 2\n",
    "\n",
    "## Predicting Num of days for closing a case based on the seasons."
   ]
  },
  {
   "cell_type": "markdown",
   "id": "4cab4d9f",
   "metadata": {},
   "source": [
    "#### How can we leverage seasonality patterns from historical data to make accurate predictions of the duration it takes to close a case?"
   ]
  },
  {
   "cell_type": "code",
   "execution_count": 43,
   "id": "91f80a89",
   "metadata": {},
   "outputs": [
    {
     "data": {
      "text/plain": [
       "Index(['ontime', 'case_status', 'case_title', 'dept_responsible',\n",
       "       'team_responsible', 'complain_type', 'submittedphoto', 'closedphoto',\n",
       "       'location', 'neighborhood', 'location_street_name', 'location_zipcode',\n",
       "       'latitude', 'longitude', 'open_date', 'open_time', 'target_date',\n",
       "       'target_time', 'closure_date', 'closure_time', 'source_City Worker App',\n",
       "       'source_Constituent Call', 'source_Employee Generated',\n",
       "       'source_Self Service'],\n",
       "      dtype='object')"
      ]
     },
     "execution_count": 43,
     "metadata": {},
     "output_type": "execute_result"
    }
   ],
   "source": [
    "data1.columns"
   ]
  },
  {
   "cell_type": "code",
   "execution_count": 91,
   "id": "dddadeca",
   "metadata": {},
   "outputs": [
    {
     "data": {
      "text/plain": [
       "array(['Inspectional Services', \"Mayor's 24 Hour Hotline\",\n",
       "       'Public Works Department', 'Transportation - Traffic Division',\n",
       "       'Boston Police Department', 'Parks & Recreation Department',\n",
       "       'Animal Control', 'Boston Water & Sewer Commission',\n",
       "       'Property Management', 'Neighborhood Services'], dtype=object)"
      ]
     },
     "execution_count": 91,
     "metadata": {},
     "output_type": "execute_result"
    }
   ],
   "source": [
    "data1['dept_responsible'].unique()"
   ]
  },
  {
   "cell_type": "code",
   "execution_count": 93,
   "id": "e614ada3",
   "metadata": {},
   "outputs": [],
   "source": [
    "data2 = data.drop(['ward', 'precinct', 'case_enquiry_id', \n",
    "                   'target_dt', 'queue', 'closure_reason',\n",
    "                   'fire_district', 'pwd_district', 'city_council_district', \n",
    "                   'police_district','department',\n",
    "                   'neighborhood_services_district'], axis=1)"
   ]
  },
  {
   "cell_type": "code",
   "execution_count": 94,
   "id": "e39633a2",
   "metadata": {},
   "outputs": [
    {
     "data": {
      "text/plain": [
       "array(['Inspectional Services', \"Mayor's 24 Hour Hotline\",\n",
       "       'Public Works Department', 'Transportation - Traffic Division',\n",
       "       'Boston Police Department', 'Parks & Recreation Department',\n",
       "       'Animal Control', 'Boston Water & Sewer Commission',\n",
       "       'Property Management', 'Neighborhood Services'], dtype=object)"
      ]
     },
     "execution_count": 94,
     "metadata": {},
     "output_type": "execute_result"
    }
   ],
   "source": [
    "data2['dept_responsible'].unique()"
   ]
  },
  {
   "cell_type": "markdown",
   "id": "35590d65",
   "metadata": {},
   "source": [
    "### Creating a new column that contains no. of days taken to resolve the issue"
   ]
  },
  {
   "cell_type": "code",
   "execution_count": 95,
   "id": "41499a41",
   "metadata": {},
   "outputs": [
    {
     "data": {
      "text/plain": [
       "0          NaN\n",
       "1          0.0\n",
       "2          NaN\n",
       "3          1.0\n",
       "4          NaN\n",
       "          ... \n",
       "276718     0.0\n",
       "276719    38.0\n",
       "276720     1.0\n",
       "276721     1.0\n",
       "276722     0.0\n",
       "Name: num_of_days, Length: 276723, dtype: float64"
      ]
     },
     "execution_count": 95,
     "metadata": {},
     "output_type": "execute_result"
    }
   ],
   "source": [
    "data2['num_of_days'] = pd.to_datetime(data2['closed_dt']) - pd.to_datetime(data2['open_dt'])\n",
    "\n",
    "# define a function to extract the number of days from a timedelta object\n",
    "def extract_number(td):\n",
    "    return td.days\n",
    "\n",
    "# apply the function to the 'Num_of_days' column using the 'apply()' method\n",
    "data2['num_of_days'] = data2['num_of_days'].apply(extract_number)\n",
    "\n",
    "data2['num_of_days']\n"
   ]
  },
  {
   "cell_type": "code",
   "execution_count": 97,
   "id": "28fb641a",
   "metadata": {},
   "outputs": [
    {
     "data": {
      "text/plain": [
       "array(['Inspectional Services', \"Mayor's 24 Hour Hotline\",\n",
       "       'Public Works Department', 'Transportation - Traffic Division',\n",
       "       'Boston Police Department', 'Parks & Recreation Department',\n",
       "       'Animal Control', 'Boston Water & Sewer Commission',\n",
       "       'Property Management', 'Neighborhood Services'], dtype=object)"
      ]
     },
     "execution_count": 97,
     "metadata": {},
     "output_type": "execute_result"
    }
   ],
   "source": [
    "data2['dept_responsible'].unique()"
   ]
  },
  {
   "cell_type": "markdown",
   "id": "52fb348b",
   "metadata": {},
   "source": [
    "\n",
    "### Calculating average number of days required to solve complain Type"
   ]
  },
  {
   "cell_type": "code",
   "execution_count": 46,
   "id": "4ccf6ab4",
   "metadata": {},
   "outputs": [
    {
     "data": {
      "text/plain": [
       "open_dt                          0\n",
       "closed_dt                    29222\n",
       "ontime                           0\n",
       "case_status                      0\n",
       "case_title                       4\n",
       "dept_responsible                 0\n",
       "team_responsible                 0\n",
       "complain_type                    0\n",
       "submittedphoto                   0\n",
       "closedphoto                      0\n",
       "location                         0\n",
       "neighborhood                   273\n",
       "location_street_name             0\n",
       "location_zipcode                 0\n",
       "latitude                         0\n",
       "longitude                        0\n",
       "open_date                        0\n",
       "open_time                        0\n",
       "target_date                  34130\n",
       "target_time                  34130\n",
       "closure_date                 29222\n",
       "closure_time                 29222\n",
       "source_City Worker App           0\n",
       "source_Constituent Call          0\n",
       "source_Employee Generated        0\n",
       "source_Self Service              0\n",
       "num_of_days                  29222\n",
       "dtype: int64"
      ]
     },
     "execution_count": 46,
     "metadata": {},
     "output_type": "execute_result"
    }
   ],
   "source": [
    "data2.isna().sum()"
   ]
  },
  {
   "cell_type": "markdown",
   "id": "73d6c927",
   "metadata": {},
   "source": [
    "### Dropping the rows with no closed date"
   ]
  },
  {
   "cell_type": "code",
   "execution_count": 98,
   "id": "dc3a25e5",
   "metadata": {},
   "outputs": [],
   "source": [
    "data2.dropna(inplace=True)"
   ]
  },
  {
   "cell_type": "code",
   "execution_count": 100,
   "id": "933fae51",
   "metadata": {},
   "outputs": [
    {
     "data": {
      "text/plain": [
       "array([\"Mayor's 24 Hour Hotline\", 'Transportation - Traffic Division',\n",
       "       'Public Works Department', 'Parks & Recreation Department',\n",
       "       'Inspectional Services', 'Property Management',\n",
       "       'Boston Police Department', 'Animal Control'], dtype=object)"
      ]
     },
     "execution_count": 100,
     "metadata": {},
     "output_type": "execute_result"
    }
   ],
   "source": [
    "data2['dept_responsible'].unique()"
   ]
  },
  {
   "cell_type": "code",
   "execution_count": 48,
   "id": "67fad769",
   "metadata": {},
   "outputs": [],
   "source": [
    "data_season = data2"
   ]
  },
  {
   "cell_type": "code",
   "execution_count": 49,
   "id": "fd0ec32e",
   "metadata": {},
   "outputs": [
    {
     "data": {
      "text/plain": [
       "Index(['open_dt', 'closed_dt', 'ontime', 'case_status', 'case_title',\n",
       "       'dept_responsible', 'team_responsible', 'complain_type',\n",
       "       'submittedphoto', 'closedphoto', 'location', 'neighborhood',\n",
       "       'location_street_name', 'location_zipcode', 'latitude', 'longitude',\n",
       "       'open_date', 'open_time', 'target_date', 'target_time', 'closure_date',\n",
       "       'closure_time', 'source_City Worker App', 'source_Constituent Call',\n",
       "       'source_Employee Generated', 'source_Self Service', 'num_of_days'],\n",
       "      dtype='object')"
      ]
     },
     "execution_count": 49,
     "metadata": {},
     "output_type": "execute_result"
    }
   ],
   "source": [
    "data_season.columns"
   ]
  },
  {
   "cell_type": "markdown",
   "id": "6e6f460d",
   "metadata": {},
   "source": [
    "# Winter season:\n",
    "Start date: January 01, 2022\n",
    "End date: March 19, 2022\n",
    "    \n",
    "Spring season\n",
    "Start date: March 20, 2022\n",
    "End date: June 20, 2022\n",
    "\n",
    "Summer season:\n",
    "Start date: June 21, 2022\n",
    "End date: September 22, 2022\n",
    "\n",
    "Fall season:\n",
    "Start date: September 23, 2022\n",
    "End date: December 31, 2022"
   ]
  },
  {
   "cell_type": "markdown",
   "id": "4e279b16",
   "metadata": {},
   "source": [
    "### Sorting the df to see the max and min date values in the dataset"
   ]
  },
  {
   "cell_type": "code",
   "execution_count": 50,
   "id": "60be02cf",
   "metadata": {},
   "outputs": [],
   "source": [
    "sorted_df = data_season.sort_values('open_dt', ascending=True)"
   ]
  },
  {
   "cell_type": "code",
   "execution_count": 51,
   "id": "8b094185",
   "metadata": {},
   "outputs": [
    {
     "data": {
      "text/plain": [
       "100347    2022-01-01 00:16:00\n",
       "84731     2022-01-01 00:27:58\n",
       "40641     2022-01-01 00:35:37\n",
       "3         2022-01-01 00:36:24\n",
       "242063    2022-01-01 00:44:50\n",
       "                 ...         \n",
       "202678    2022-12-31 22:40:40\n",
       "220190    2022-12-31 22:48:00\n",
       "37294     2022-12-31 22:55:51\n",
       "178630    2022-12-31 23:27:47\n",
       "211456    2022-12-31 23:30:00\n",
       "Name: open_dt, Length: 217179, dtype: object"
      ]
     },
     "execution_count": 51,
     "metadata": {},
     "output_type": "execute_result"
    }
   ],
   "source": [
    "sorted_df['open_dt']"
   ]
  },
  {
   "cell_type": "markdown",
   "id": "b4047ae3",
   "metadata": {},
   "source": [
    "### Creating a new column Season and categorizing ech records in either of the values based on 'open_date'"
   ]
  },
  {
   "cell_type": "code",
   "execution_count": 54,
   "id": "8b60ee24",
   "metadata": {},
   "outputs": [],
   "source": [
    "import pandas as pd\n",
    "\n",
    "# Convert the 'open_dt' column to a datetime object\n",
    "data_season['open_dt'] = pd.to_datetime(data_season['open_dt'])\n",
    "\n",
    "# Create a dictionary mapping each season to its start and end dates\n",
    "seasons = {\n",
    "    'Winter': {'start': pd.to_datetime('2022-01-01'), 'end': pd.to_datetime('2022-03-19')},\n",
    "    'Spring': {'start': pd.to_datetime('2022-03-20'), 'end': pd.to_datetime('2022-06-20')},\n",
    "    'Summer': {'start': pd.to_datetime('2022-06-21'), 'end': pd.to_datetime('2022-09-22')},\n",
    "    'Fall': {'start': pd.to_datetime('2022-09-23'), 'end': pd.to_datetime('2022-12-31')}\n",
    "}\n",
    "\n",
    "# Define a function to assign the season based on the start date\n",
    "def assign_season(row):\n",
    "    for season, dates in seasons.items():\n",
    "        if row['open_dt'] >= dates['start'] and row['open_dt'] <= dates['end']:\n",
    "            return season\n",
    "\n",
    "# Create a new column 'season' using the assign_season function\n",
    "data_season['season'] = data_season.apply(assign_season, axis=1)\n"
   ]
  },
  {
   "cell_type": "code",
   "execution_count": 55,
   "id": "61490a0f",
   "metadata": {},
   "outputs": [
    {
     "data": {
      "text/plain": [
       "Summer    60994\n",
       "Spring    56370\n",
       "Fall      50178\n",
       "Winter    47809\n",
       "Name: season, dtype: int64"
      ]
     },
     "execution_count": 55,
     "metadata": {},
     "output_type": "execute_result"
    }
   ],
   "source": [
    "data_season['season'].value_counts()"
   ]
  },
  {
   "cell_type": "markdown",
   "id": "ecc16c5b",
   "metadata": {},
   "source": [
    "### Creating testing and training dataset"
   ]
  },
  {
   "cell_type": "code",
   "execution_count": 56,
   "id": "4fc77215",
   "metadata": {},
   "outputs": [
    {
     "data": {
      "text/plain": [
       "Index(['open_dt', 'closed_dt', 'ontime', 'case_status', 'case_title',\n",
       "       'dept_responsible', 'team_responsible', 'complain_type',\n",
       "       'submittedphoto', 'closedphoto', 'location', 'neighborhood',\n",
       "       'location_street_name', 'location_zipcode', 'latitude', 'longitude',\n",
       "       'open_date', 'open_time', 'target_date', 'target_time', 'closure_date',\n",
       "       'closure_time', 'source_City Worker App', 'source_Constituent Call',\n",
       "       'source_Employee Generated', 'source_Self Service', 'num_of_days',\n",
       "       'season'],\n",
       "      dtype='object')"
      ]
     },
     "execution_count": 56,
     "metadata": {},
     "output_type": "execute_result"
    }
   ],
   "source": [
    "data_season.columns"
   ]
  },
  {
   "cell_type": "code",
   "execution_count": 57,
   "id": "c741410d",
   "metadata": {},
   "outputs": [
    {
     "data": {
      "text/plain": [
       "open_dt                         0\n",
       "closed_dt                       0\n",
       "ontime                          0\n",
       "case_status                     0\n",
       "case_title                      0\n",
       "dept_responsible                0\n",
       "team_responsible                0\n",
       "complain_type                   0\n",
       "submittedphoto                  0\n",
       "closedphoto                     0\n",
       "location                        0\n",
       "neighborhood                    0\n",
       "location_street_name            0\n",
       "location_zipcode                0\n",
       "latitude                        0\n",
       "longitude                       0\n",
       "open_date                       0\n",
       "open_time                       0\n",
       "target_date                     0\n",
       "target_time                     0\n",
       "closure_date                    0\n",
       "closure_time                    0\n",
       "source_City Worker App          0\n",
       "source_Constituent Call         0\n",
       "source_Employee Generated       0\n",
       "source_Self Service             0\n",
       "num_of_days                     0\n",
       "season                       1828\n",
       "dtype: int64"
      ]
     },
     "execution_count": 57,
     "metadata": {},
     "output_type": "execute_result"
    }
   ],
   "source": [
    "data_season.isnull().sum()"
   ]
  },
  {
   "cell_type": "code",
   "execution_count": 89,
   "id": "eb6237d1",
   "metadata": {},
   "outputs": [
    {
     "data": {
      "text/plain": [
       "array([\"Mayor's 24 Hour Hotline\", 'Transportation - Traffic Division',\n",
       "       'Public Works Department', 'Parks & Recreation Department',\n",
       "       'Inspectional Services', 'Property Management',\n",
       "       'Boston Police Department', 'Animal Control'], dtype=object)"
      ]
     },
     "execution_count": 89,
     "metadata": {},
     "output_type": "execute_result"
    },
    {
     "name": "stdout",
     "output_type": "stream",
     "text": [
      "The history saving thread hit an unexpected error (OperationalError('unable to open database file')).History will not be written to the database.\n"
     ]
    }
   ],
   "source": [
    "data_season['dept_responsible'].unique()"
   ]
  },
  {
   "cell_type": "code",
   "execution_count": 59,
   "id": "9a50db8c",
   "metadata": {
    "scrolled": true
   },
   "outputs": [
    {
     "data": {
      "text/html": [
       "<div>\n",
       "<style scoped>\n",
       "    .dataframe tbody tr th:only-of-type {\n",
       "        vertical-align: middle;\n",
       "    }\n",
       "\n",
       "    .dataframe tbody tr th {\n",
       "        vertical-align: top;\n",
       "    }\n",
       "\n",
       "    .dataframe thead th {\n",
       "        text-align: right;\n",
       "    }\n",
       "</style>\n",
       "<table border=\"1\" class=\"dataframe\">\n",
       "  <thead>\n",
       "    <tr style=\"text-align: right;\">\n",
       "      <th></th>\n",
       "      <th>open_dt</th>\n",
       "      <th>closed_dt</th>\n",
       "      <th>ontime</th>\n",
       "      <th>case_status</th>\n",
       "      <th>case_title</th>\n",
       "      <th>dept_responsible</th>\n",
       "      <th>team_responsible</th>\n",
       "      <th>complain_type</th>\n",
       "      <th>submittedphoto</th>\n",
       "      <th>closedphoto</th>\n",
       "      <th>...</th>\n",
       "      <th>target_date</th>\n",
       "      <th>target_time</th>\n",
       "      <th>closure_date</th>\n",
       "      <th>closure_time</th>\n",
       "      <th>source_City Worker App</th>\n",
       "      <th>source_Constituent Call</th>\n",
       "      <th>source_Employee Generated</th>\n",
       "      <th>source_Self Service</th>\n",
       "      <th>num_of_days</th>\n",
       "      <th>season</th>\n",
       "    </tr>\n",
       "  </thead>\n",
       "  <tbody>\n",
       "    <tr>\n",
       "      <th>1</th>\n",
       "      <td>2022-02-02 11:42:49</td>\n",
       "      <td>2022-02-02 11:45:47</td>\n",
       "      <td>1</td>\n",
       "      <td>1</td>\n",
       "      <td>PublicWorks: Complaint</td>\n",
       "      <td>Mayor's 24 Hour Hotline</td>\n",
       "      <td>Employee &amp; General Comments</td>\n",
       "      <td>General Comments For a Program or Policy</td>\n",
       "      <td>0</td>\n",
       "      <td>0</td>\n",
       "      <td>...</td>\n",
       "      <td>2022-02-16</td>\n",
       "      <td>11:42:49</td>\n",
       "      <td>2022-02-02</td>\n",
       "      <td>11:45:47</td>\n",
       "      <td>0</td>\n",
       "      <td>1</td>\n",
       "      <td>0</td>\n",
       "      <td>0</td>\n",
       "      <td>0.0</td>\n",
       "      <td>Winter</td>\n",
       "    </tr>\n",
       "    <tr>\n",
       "      <th>3</th>\n",
       "      <td>2022-01-01 00:36:24</td>\n",
       "      <td>2022-01-03 00:13:17</td>\n",
       "      <td>1</td>\n",
       "      <td>1</td>\n",
       "      <td>Parking Enforcement</td>\n",
       "      <td>Transportation - Traffic Division</td>\n",
       "      <td>Enforcement &amp; Abandoned Vehicles</td>\n",
       "      <td>Parking Enforcement</td>\n",
       "      <td>1</td>\n",
       "      <td>0</td>\n",
       "      <td>...</td>\n",
       "      <td>2022-01-04</td>\n",
       "      <td>08:30:00</td>\n",
       "      <td>2022-01-03</td>\n",
       "      <td>00:13:17</td>\n",
       "      <td>0</td>\n",
       "      <td>0</td>\n",
       "      <td>0</td>\n",
       "      <td>0</td>\n",
       "      <td>1.0</td>\n",
       "      <td>Winter</td>\n",
       "    </tr>\n",
       "    <tr>\n",
       "      <th>6</th>\n",
       "      <td>2022-01-01 01:13:52</td>\n",
       "      <td>2022-01-03 00:13:02</td>\n",
       "      <td>1</td>\n",
       "      <td>1</td>\n",
       "      <td>Parking Enforcement</td>\n",
       "      <td>Transportation - Traffic Division</td>\n",
       "      <td>Enforcement &amp; Abandoned Vehicles</td>\n",
       "      <td>Parking Enforcement</td>\n",
       "      <td>1</td>\n",
       "      <td>0</td>\n",
       "      <td>...</td>\n",
       "      <td>2022-01-04</td>\n",
       "      <td>08:30:00</td>\n",
       "      <td>2022-01-03</td>\n",
       "      <td>00:13:02</td>\n",
       "      <td>0</td>\n",
       "      <td>0</td>\n",
       "      <td>0</td>\n",
       "      <td>0</td>\n",
       "      <td>1.0</td>\n",
       "      <td>Winter</td>\n",
       "    </tr>\n",
       "    <tr>\n",
       "      <th>7</th>\n",
       "      <td>2022-01-01 01:14:39</td>\n",
       "      <td>2022-04-02 13:01:14</td>\n",
       "      <td>0</td>\n",
       "      <td>1</td>\n",
       "      <td>General Lighting Request</td>\n",
       "      <td>Public Works Department</td>\n",
       "      <td>Street Lights</td>\n",
       "      <td>General Lighting Request</td>\n",
       "      <td>0</td>\n",
       "      <td>0</td>\n",
       "      <td>...</td>\n",
       "      <td>2022-02-15</td>\n",
       "      <td>01:14:45</td>\n",
       "      <td>2022-04-02</td>\n",
       "      <td>13:01:14</td>\n",
       "      <td>1</td>\n",
       "      <td>0</td>\n",
       "      <td>0</td>\n",
       "      <td>0</td>\n",
       "      <td>91.0</td>\n",
       "      <td>Winter</td>\n",
       "    </tr>\n",
       "    <tr>\n",
       "      <th>9</th>\n",
       "      <td>2022-01-01 13:51:00</td>\n",
       "      <td>2022-01-03 05:59:20</td>\n",
       "      <td>1</td>\n",
       "      <td>1</td>\n",
       "      <td>Requests for Street Cleaning</td>\n",
       "      <td>Public Works Department</td>\n",
       "      <td>Street Cleaning</td>\n",
       "      <td>Requests for Street Cleaning</td>\n",
       "      <td>1</td>\n",
       "      <td>1</td>\n",
       "      <td>...</td>\n",
       "      <td>2022-01-04</td>\n",
       "      <td>08:30:00</td>\n",
       "      <td>2022-01-03</td>\n",
       "      <td>05:59:20</td>\n",
       "      <td>0</td>\n",
       "      <td>0</td>\n",
       "      <td>0</td>\n",
       "      <td>0</td>\n",
       "      <td>1.0</td>\n",
       "      <td>Winter</td>\n",
       "    </tr>\n",
       "  </tbody>\n",
       "</table>\n",
       "<p>5 rows × 28 columns</p>\n",
       "</div>"
      ],
      "text/plain": [
       "              open_dt            closed_dt  ontime  case_status  \\\n",
       "1 2022-02-02 11:42:49  2022-02-02 11:45:47       1            1   \n",
       "3 2022-01-01 00:36:24  2022-01-03 00:13:17       1            1   \n",
       "6 2022-01-01 01:13:52  2022-01-03 00:13:02       1            1   \n",
       "7 2022-01-01 01:14:39  2022-04-02 13:01:14       0            1   \n",
       "9 2022-01-01 13:51:00  2022-01-03 05:59:20       1            1   \n",
       "\n",
       "                     case_title                   dept_responsible  \\\n",
       "1        PublicWorks: Complaint            Mayor's 24 Hour Hotline   \n",
       "3           Parking Enforcement  Transportation - Traffic Division   \n",
       "6           Parking Enforcement  Transportation - Traffic Division   \n",
       "7      General Lighting Request            Public Works Department   \n",
       "9  Requests for Street Cleaning            Public Works Department   \n",
       "\n",
       "                   team_responsible                             complain_type  \\\n",
       "1       Employee & General Comments  General Comments For a Program or Policy   \n",
       "3  Enforcement & Abandoned Vehicles                       Parking Enforcement   \n",
       "6  Enforcement & Abandoned Vehicles                       Parking Enforcement   \n",
       "7                     Street Lights                  General Lighting Request   \n",
       "9                   Street Cleaning              Requests for Street Cleaning   \n",
       "\n",
       "   submittedphoto  closedphoto  ... target_date target_time closure_date  \\\n",
       "1               0            0  ...  2022-02-16    11:42:49   2022-02-02   \n",
       "3               1            0  ...  2022-01-04    08:30:00   2022-01-03   \n",
       "6               1            0  ...  2022-01-04    08:30:00   2022-01-03   \n",
       "7               0            0  ...  2022-02-15    01:14:45   2022-04-02   \n",
       "9               1            1  ...  2022-01-04    08:30:00   2022-01-03   \n",
       "\n",
       "  closure_time  source_City Worker App  source_Constituent Call  \\\n",
       "1     11:45:47                       0                        1   \n",
       "3     00:13:17                       0                        0   \n",
       "6     00:13:02                       0                        0   \n",
       "7     13:01:14                       1                        0   \n",
       "9     05:59:20                       0                        0   \n",
       "\n",
       "  source_Employee Generated source_Self Service num_of_days  season  \n",
       "1                         0                   0         0.0  Winter  \n",
       "3                         0                   0         1.0  Winter  \n",
       "6                         0                   0         1.0  Winter  \n",
       "7                         0                   0        91.0  Winter  \n",
       "9                         0                   0         1.0  Winter  \n",
       "\n",
       "[5 rows x 28 columns]"
      ]
     },
     "execution_count": 59,
     "metadata": {},
     "output_type": "execute_result"
    }
   ],
   "source": [
    "data_season.head()"
   ]
  },
  {
   "cell_type": "code",
   "execution_count": 58,
   "id": "4013bbf8",
   "metadata": {},
   "outputs": [],
   "source": [
    "data_season.dropna(inplace=True)\n"
   ]
  },
  {
   "cell_type": "code",
   "execution_count": 60,
   "id": "87c7d24d",
   "metadata": {},
   "outputs": [],
   "source": [
    "x2 = data_season[['dept_responsible', 'team_responsible','neighborhood','submittedphoto','latitude', 'longitude', 'source_City Worker App',\n",
    "       'source_Constituent Call', 'source_Employee Generated','source_Self Service','season']]\n",
    "\n",
    "y2 = data_season['num_of_days']"
   ]
  },
  {
   "cell_type": "code",
   "execution_count": 61,
   "id": "f04d3ae1",
   "metadata": {},
   "outputs": [],
   "source": [
    "x2_=pd.get_dummies(x2,drop_first=True)"
   ]
  },
  {
   "cell_type": "code",
   "execution_count": 102,
   "id": "a586ecef",
   "metadata": {},
   "outputs": [
    {
     "data": {
      "text/plain": [
       "array(['No info provided', 'South Boston / South Boston Waterfront',\n",
       "       'Dorchester', 'Jamaica Plain', 'South End', 'Roslindale',\n",
       "       'Beacon Hill', 'Greater Mattapan', 'Roxbury',\n",
       "       'Downtown / Financial District', 'Boston', 'Charlestown',\n",
       "       'Allston / Brighton',\n",
       "       'Fenway / Kenmore / Audubon Circle / Longwood', 'Hyde Park',\n",
       "       'Back Bay', 'South Boston', 'West Roxbury', 'Brighton',\n",
       "       'East Boston', 'Mission Hill', 'Allston', 'Mattapan',\n",
       "       'Chestnut Hill'], dtype=object)"
      ]
     },
     "execution_count": 102,
     "metadata": {},
     "output_type": "execute_result"
    }
   ],
   "source": [
    "x2['neighborhood'].unique()"
   ]
  },
  {
   "cell_type": "code",
   "execution_count": 83,
   "id": "bd7d2d6b",
   "metadata": {},
   "outputs": [],
   "source": [
    "from sklearn.model_selection import train_test_split\n",
    "\n",
    "# Split the data into train and test sets\n",
    "x_train, x_test, y_train, y_test = train_test_split(x2_, y2, test_size=0.3, random_state=1) \n",
    "                                            \n"
   ]
  },
  {
   "cell_type": "code",
   "execution_count": 84,
   "id": "260ecfe8",
   "metadata": {},
   "outputs": [
    {
     "name": "stdout",
     "output_type": "stream",
     "text": [
      "Coefficients: [ 7.64631159e-01 -2.51937373e+01  5.52109403e-01  9.07308422e-01\n",
      " -1.05249423e-01 -2.49004748e+00  2.59608462e-01  4.22461796e+13\n",
      "  3.21164479e+13  1.38273936e+14  5.25734266e+13  1.31719848e+14\n",
      "  2.02394930e+13  2.02394930e+13  2.02394930e+13  1.56289062e+01\n",
      " -1.18769549e+13 -3.23339336e+13 -1.94433594e+00 -1.18034443e+14\n",
      " -8.09570312e+00 -1.18769549e+13 -1.18034443e+14 -1.11480355e+14\n",
      " -1.18769549e+13  1.75000000e+00 -1.18769549e+13 -2.20066866e+13\n",
      " -7.07344818e+00 -3.23339336e+13  1.71759262e+01  9.54296875e+00\n",
      " -1.50390625e+00  9.78515625e-01 -1.03125000e+00  1.74794922e+01\n",
      "  1.98583984e+00 -3.23339336e+13 -1.18769549e+13  2.26318359e-01\n",
      " -8.42773438e-01 -1.88476562e-01  4.15122986e-01 -5.37109375e-01\n",
      "  2.07519531e-01  4.05071259e-01  9.06250000e-01 -1.09008789e-01\n",
      " -3.16406250e-01 -3.67187500e-01 -1.01733398e+00 -1.41796875e+00\n",
      "  3.83300781e-01 -1.28021240e+00 -6.90673828e-01  2.29492188e-02\n",
      " -2.89062500e-01  6.69921875e-01 -1.78515625e+00 -1.43701172e+00\n",
      " -1.04687500e+00 -1.70507812e+00  3.31054688e+00  1.58203125e+00\n",
      "  5.49609375e+00]\n",
      "Mean squared error: 375.5445013301046\n",
      "Coefficient of determination: 0.21458638719644973\n"
     ]
    }
   ],
   "source": [
    "from sklearn.linear_model import LinearRegression\n",
    "from sklearn.model_selection import train_test_split\n",
    "from sklearn.metrics import mean_squared_error, r2_score\n",
    "\n",
    "model = LinearRegression()\n",
    "\n",
    "# Train the model using the training sets\n",
    "model.fit(x_train, y_train)\n",
    "\n",
    "# Make predictions using the testing set\n",
    "y_pred = model.predict(x_test)\n",
    "\n",
    "# Evaluate the model performance\n",
    "print('Coefficients:', model.coef_)\n",
    "print('Mean squared error:', mean_squared_error(y_test, y_pred))\n",
    "print('Coefficient of determination:', r2_score(y_test, y_pred))\n"
   ]
  },
  {
   "cell_type": "code",
   "execution_count": 85,
   "id": "c99131ca",
   "metadata": {},
   "outputs": [
    {
     "data": {
      "text/plain": [
       "65"
      ]
     },
     "execution_count": 85,
     "metadata": {},
     "output_type": "execute_result"
    }
   ],
   "source": [
    "len(model.coef_)"
   ]
  },
  {
   "cell_type": "code",
   "execution_count": 82,
   "id": "b38fadcd",
   "metadata": {},
   "outputs": [
    {
     "data": {
      "text/plain": [
       "Index(['submittedphoto', 'latitude', 'longitude', 'source_City Worker App',\n",
       "       'source_Constituent Call', 'source_Employee Generated',\n",
       "       'source_Self Service', 'dept_responsible_Boston Police Department',\n",
       "       'dept_responsible_Inspectional Services',\n",
       "       'dept_responsible_Mayor's 24 Hour Hotline',\n",
       "       'dept_responsible_Parks & Recreation Department',\n",
       "       'dept_responsible_Property Management',\n",
       "       'dept_responsible_Public Works Department',\n",
       "       'dept_responsible_Transportation - Traffic Division',\n",
       "       'team_responsible_Animal Issues', 'team_responsible_Boston Bikes',\n",
       "       'team_responsible_Building', 'team_responsible_Cemetery',\n",
       "       'team_responsible_Code Enforcement',\n",
       "       'team_responsible_Employee & General Comments',\n",
       "       'team_responsible_Enforcement & Abandoned Vehicles',\n",
       "       'team_responsible_Environmental Services',\n",
       "       'team_responsible_General Request', 'team_responsible_Graffiti',\n",
       "       'team_responsible_Health', 'team_responsible_Highway Maintenance',\n",
       "       'team_responsible_Housing', 'team_responsible_Noise Disturbance',\n",
       "       'team_responsible_Operations',\n",
       "       'team_responsible_Park Maintenance & Safety',\n",
       "       'team_responsible_Parking Complaints', 'team_responsible_Recycling',\n",
       "       'team_responsible_Sanitation', 'team_responsible_Signs & Signals',\n",
       "       'team_responsible_Street Cleaning', 'team_responsible_Street Lights',\n",
       "       'team_responsible_Traffic Management & Engineering',\n",
       "       'team_responsible_Trees', 'team_responsible_Weights and Measures',\n",
       "       'neighborhood_Allston / Brighton', 'neighborhood_Back Bay',\n",
       "       'neighborhood_Beacon Hill', 'neighborhood_Boston',\n",
       "       'neighborhood_Brighton', 'neighborhood_Charlestown',\n",
       "       'neighborhood_Chestnut Hill', 'neighborhood_Dorchester',\n",
       "       'neighborhood_Downtown / Financial District',\n",
       "       'neighborhood_East Boston',\n",
       "       'neighborhood_Fenway / Kenmore / Audubon Circle / Longwood',\n",
       "       'neighborhood_Greater Mattapan', 'neighborhood_Hyde Park',\n",
       "       'neighborhood_Jamaica Plain', 'neighborhood_Mattapan',\n",
       "       'neighborhood_Mission Hill', 'neighborhood_No info provided',\n",
       "       'neighborhood_Roslindale', 'neighborhood_Roxbury',\n",
       "       'neighborhood_South Boston',\n",
       "       'neighborhood_South Boston / South Boston Waterfront',\n",
       "       'neighborhood_South End', 'neighborhood_West Roxbury', 'season_Spring',\n",
       "       'season_Summer', 'season_Winter'],\n",
       "      dtype='object')"
      ]
     },
     "execution_count": 82,
     "metadata": {},
     "output_type": "execute_result"
    }
   ],
   "source": [
    "x2_.columns"
   ]
  },
  {
   "cell_type": "markdown",
   "id": "e079faf8",
   "metadata": {},
   "source": [
    "### use of feature extraction to find the best features using sfs"
   ]
  },
  {
   "cell_type": "code",
   "execution_count": 65,
   "id": "8de2220a",
   "metadata": {},
   "outputs": [],
   "source": [
    "from mlxtend.feature_selection import SequentialFeatureSelector as SFS"
   ]
  },
  {
   "cell_type": "code",
   "execution_count": 66,
   "id": "92fe9ebd",
   "metadata": {},
   "outputs": [
    {
     "name": "stdout",
     "output_type": "stream",
     "text": [
      "rmse is 19.382983167582402\n"
     ]
    }
   ],
   "source": [
    "lr = LinearRegression()##model to be used for feature selection\n",
    "\n",
    "sfs = SFS(lr, \n",
    "          k_features=(1,20), \n",
    "          forward=True, \n",
    "          scoring='neg_root_mean_squared_error',\n",
    "          cv=20)\n",
    "\n",
    "sfs.fit(x_train, y_train)##training here means finding important features based on RMSE\n",
    "\n",
    "###what features were selected\n",
    "sfs.k_feature_names_\n",
    "\n",
    "##transformed data will have only selected features\n",
    "X_train_sfs = sfs.transform(x_train)\n",
    "X_test_sfs = sfs.transform(x_test)\n",
    "\n",
    "# Fit the model using the new feature subset\n",
    "# and make a prediction on the test data\n",
    "lr.fit(X_train_sfs, y_train)\n",
    "y_pred = lr.predict(X_test_sfs)\n",
    "\n",
    "'''rmse with backward/forward method'''\n",
    "\n",
    "rmse = mean_squared_error(y_test, y_pred, squared=False)\n",
    "print (\"rmse is\",rmse)"
   ]
  },
  {
   "cell_type": "code",
   "execution_count": 67,
   "id": "5f2ddaab",
   "metadata": {},
   "outputs": [
    {
     "name": "stdout",
     "output_type": "stream",
     "text": [
      "Coefficient of determination: 0.21426110106000829\n"
     ]
    }
   ],
   "source": [
    "print('Coefficient of determination:', r2_score(y_test, y_pred))"
   ]
  },
  {
   "cell_type": "code",
   "execution_count": 73,
   "id": "6632557c",
   "metadata": {},
   "outputs": [
    {
     "data": {
      "text/plain": [
       "('latitude',\n",
       " 'dept_responsible_Inspectional Services',\n",
       " 'dept_responsible_Parks & Recreation Department',\n",
       " 'dept_responsible_Property Management',\n",
       " 'dept_responsible_Public Works Department',\n",
       " 'team_responsible_Building',\n",
       " 'team_responsible_Highway Maintenance',\n",
       " 'team_responsible_Housing',\n",
       " 'team_responsible_Recycling',\n",
       " 'team_responsible_Signs & Signals',\n",
       " 'team_responsible_Street Cleaning',\n",
       " 'team_responsible_Street Lights',\n",
       " 'team_responsible_Traffic Management & Engineering',\n",
       " 'team_responsible_Trees',\n",
       " 'neighborhood_Dorchester',\n",
       " 'neighborhood_Roxbury',\n",
       " 'neighborhood_South Boston / South Boston Waterfront',\n",
       " 'season_Spring',\n",
       " 'season_Summer',\n",
       " 'season_Winter')"
      ]
     },
     "execution_count": 73,
     "metadata": {},
     "output_type": "execute_result"
    }
   ],
   "source": [
    "sfs.k_feature_names_"
   ]
  },
  {
   "cell_type": "code",
   "execution_count": 74,
   "id": "4abdcf1b",
   "metadata": {},
   "outputs": [
    {
     "data": {
      "text/html": [
       "<div>\n",
       "<style scoped>\n",
       "    .dataframe tbody tr th:only-of-type {\n",
       "        vertical-align: middle;\n",
       "    }\n",
       "\n",
       "    .dataframe tbody tr th {\n",
       "        vertical-align: top;\n",
       "    }\n",
       "\n",
       "    .dataframe thead th {\n",
       "        text-align: right;\n",
       "    }\n",
       "</style>\n",
       "<table border=\"1\" class=\"dataframe\">\n",
       "  <thead>\n",
       "    <tr style=\"text-align: right;\">\n",
       "      <th></th>\n",
       "      <th>Feature</th>\n",
       "      <th>Coefficient</th>\n",
       "    </tr>\n",
       "  </thead>\n",
       "  <tbody>\n",
       "    <tr>\n",
       "      <th>0</th>\n",
       "      <td>latitude</td>\n",
       "      <td>-16.882034</td>\n",
       "    </tr>\n",
       "    <tr>\n",
       "      <th>1</th>\n",
       "      <td>dept_responsible_Inspectional Services</td>\n",
       "      <td>-1.968910</td>\n",
       "    </tr>\n",
       "    <tr>\n",
       "      <th>2</th>\n",
       "      <td>dept_responsible_Parks &amp; Recreation Department</td>\n",
       "      <td>3.946297</td>\n",
       "    </tr>\n",
       "    <tr>\n",
       "      <th>3</th>\n",
       "      <td>dept_responsible_Property Management</td>\n",
       "      <td>80.990188</td>\n",
       "    </tr>\n",
       "    <tr>\n",
       "      <th>4</th>\n",
       "      <td>dept_responsible_Public Works Department</td>\n",
       "      <td>-3.732582</td>\n",
       "    </tr>\n",
       "    <tr>\n",
       "      <th>5</th>\n",
       "      <td>team_responsible_Building</td>\n",
       "      <td>15.056561</td>\n",
       "    </tr>\n",
       "    <tr>\n",
       "      <th>6</th>\n",
       "      <td>team_responsible_Highway Maintenance</td>\n",
       "      <td>3.778339</td>\n",
       "    </tr>\n",
       "    <tr>\n",
       "      <th>7</th>\n",
       "      <td>team_responsible_Housing</td>\n",
       "      <td>3.826334</td>\n",
       "    </tr>\n",
       "    <tr>\n",
       "      <th>8</th>\n",
       "      <td>team_responsible_Recycling</td>\n",
       "      <td>11.365769</td>\n",
       "    </tr>\n",
       "    <tr>\n",
       "      <th>9</th>\n",
       "      <td>team_responsible_Signs &amp; Signals</td>\n",
       "      <td>8.954346</td>\n",
       "    </tr>\n",
       "    <tr>\n",
       "      <th>10</th>\n",
       "      <td>team_responsible_Street Cleaning</td>\n",
       "      <td>1.097008</td>\n",
       "    </tr>\n",
       "    <tr>\n",
       "      <th>11</th>\n",
       "      <td>team_responsible_Street Lights</td>\n",
       "      <td>19.249777</td>\n",
       "    </tr>\n",
       "    <tr>\n",
       "      <th>12</th>\n",
       "      <td>team_responsible_Traffic Management &amp; Engineering</td>\n",
       "      <td>9.543052</td>\n",
       "    </tr>\n",
       "    <tr>\n",
       "      <th>13</th>\n",
       "      <td>team_responsible_Trees</td>\n",
       "      <td>28.465004</td>\n",
       "    </tr>\n",
       "    <tr>\n",
       "      <th>14</th>\n",
       "      <td>neighborhood_Dorchester</td>\n",
       "      <td>1.481202</td>\n",
       "    </tr>\n",
       "    <tr>\n",
       "      <th>15</th>\n",
       "      <td>neighborhood_Roxbury</td>\n",
       "      <td>1.094386</td>\n",
       "    </tr>\n",
       "    <tr>\n",
       "      <th>16</th>\n",
       "      <td>neighborhood_South Boston / South Boston Water...</td>\n",
       "      <td>-1.034226</td>\n",
       "    </tr>\n",
       "    <tr>\n",
       "      <th>17</th>\n",
       "      <td>season_Spring</td>\n",
       "      <td>3.525048</td>\n",
       "    </tr>\n",
       "    <tr>\n",
       "      <th>18</th>\n",
       "      <td>season_Summer</td>\n",
       "      <td>1.745958</td>\n",
       "    </tr>\n",
       "    <tr>\n",
       "      <th>19</th>\n",
       "      <td>season_Winter</td>\n",
       "      <td>5.702316</td>\n",
       "    </tr>\n",
       "  </tbody>\n",
       "</table>\n",
       "</div>"
      ],
      "text/plain": [
       "                                              Feature  Coefficient\n",
       "0                                            latitude   -16.882034\n",
       "1              dept_responsible_Inspectional Services    -1.968910\n",
       "2      dept_responsible_Parks & Recreation Department     3.946297\n",
       "3                dept_responsible_Property Management    80.990188\n",
       "4            dept_responsible_Public Works Department    -3.732582\n",
       "5                           team_responsible_Building    15.056561\n",
       "6                team_responsible_Highway Maintenance     3.778339\n",
       "7                            team_responsible_Housing     3.826334\n",
       "8                          team_responsible_Recycling    11.365769\n",
       "9                    team_responsible_Signs & Signals     8.954346\n",
       "10                   team_responsible_Street Cleaning     1.097008\n",
       "11                     team_responsible_Street Lights    19.249777\n",
       "12  team_responsible_Traffic Management & Engineering     9.543052\n",
       "13                             team_responsible_Trees    28.465004\n",
       "14                            neighborhood_Dorchester     1.481202\n",
       "15                               neighborhood_Roxbury     1.094386\n",
       "16  neighborhood_South Boston / South Boston Water...    -1.034226\n",
       "17                                      season_Spring     3.525048\n",
       "18                                      season_Summer     1.745958\n",
       "19                                      season_Winter     5.702316"
      ]
     },
     "execution_count": 74,
     "metadata": {},
     "output_type": "execute_result"
    }
   ],
   "source": [
    "coefficients = pd.DataFrame({'Feature': sfs.k_feature_names_, 'Coefficient': lr.coef_})\n",
    "coefficients"
   ]
  },
  {
   "cell_type": "code",
   "execution_count": 79,
   "id": "c893179a",
   "metadata": {},
   "outputs": [
    {
     "data": {
      "text/plain": [
       "Index(['latitude', 'longitude', 'source_City Worker App',\n",
       "       'source_Constituent Call', 'source_Employee Generated',\n",
       "       'source_Self Service'],\n",
       "      dtype='object')"
      ]
     },
     "execution_count": 79,
     "metadata": {},
     "output_type": "execute_result"
    }
   ],
   "source": [
    "x_train.columns"
   ]
  },
  {
   "cell_type": "code",
   "execution_count": null,
   "id": "754c2e98",
   "metadata": {},
   "outputs": [],
   "source": []
  }
 ],
 "metadata": {
  "kernelspec": {
   "display_name": "Python 3 (ipykernel)",
   "language": "python",
   "name": "python3"
  },
  "language_info": {
   "codemirror_mode": {
    "name": "ipython",
    "version": 3
   },
   "file_extension": ".py",
   "mimetype": "text/x-python",
   "name": "python",
   "nbconvert_exporter": "python",
   "pygments_lexer": "ipython3",
   "version": "3.9.12"
  }
 },
 "nbformat": 4,
 "nbformat_minor": 5
}
